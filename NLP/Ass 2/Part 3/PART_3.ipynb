{
  "cells": [
    {
      "cell_type": "code",
      "execution_count": null,
      "metadata": {
        "colab": {
          "base_uri": "https://localhost:8080/"
        },
        "id": "t99Im6qHcGTd",
        "outputId": "338efa5a-4a7c-4eba-9219-9e9d8d37226f"
      },
      "outputs": [
        {
          "output_type": "stream",
          "name": "stdout",
          "text": [
            "\u001b[2K     \u001b[90m━━━━━━━━━━━━━━━━━━━━━━━━━━━━━━━━━━━━━━━━\u001b[0m \u001b[32m7.7/7.7 MB\u001b[0m \u001b[31m29.1 MB/s\u001b[0m eta \u001b[36m0:00:00\u001b[0m\n",
            "\u001b[2K     \u001b[90m━━━━━━━━━━━━━━━━━━━━━━━━━━━━━━━━━━━━━━━━\u001b[0m \u001b[32m519.6/519.6 kB\u001b[0m \u001b[31m38.1 MB/s\u001b[0m eta \u001b[36m0:00:00\u001b[0m\n",
            "\u001b[2K     \u001b[90m━━━━━━━━━━━━━━━━━━━━━━━━━━━━━━━━━━━━━━━━\u001b[0m \u001b[32m2.0/2.0 MB\u001b[0m \u001b[31m49.5 MB/s\u001b[0m eta \u001b[36m0:00:00\u001b[0m\n",
            "\u001b[2K     \u001b[90m━━━━━━━━━━━━━━━━━━━━━━━━━━━━━━━━━━━━━━━━\u001b[0m \u001b[32m2.1/2.1 MB\u001b[0m \u001b[31m74.2 MB/s\u001b[0m eta \u001b[36m0:00:00\u001b[0m\n",
            "\u001b[2K     \u001b[90m━━━━━━━━━━━━━━━━━━━━━━━━━━━━━━━━━━━━━━━━\u001b[0m \u001b[32m2.0/2.0 MB\u001b[0m \u001b[31m78.2 MB/s\u001b[0m eta \u001b[36m0:00:00\u001b[0m\n",
            "\u001b[2K     \u001b[90m━━━━━━━━━━━━━━━━━━━━━━━━━━━━━━━━━━━━━━━━\u001b[0m \u001b[32m302.0/302.0 kB\u001b[0m \u001b[31m37.4 MB/s\u001b[0m eta \u001b[36m0:00:00\u001b[0m\n",
            "\u001b[2K     \u001b[90m━━━━━━━━━━━━━━━━━━━━━━━━━━━━━━━━━━━━━━━━\u001b[0m \u001b[32m3.8/3.8 MB\u001b[0m \u001b[31m105.7 MB/s\u001b[0m eta \u001b[36m0:00:00\u001b[0m\n",
            "\u001b[2K     \u001b[90m━━━━━━━━━━━━━━━━━━━━━━━━━━━━━━━━━━━━━━━━\u001b[0m \u001b[32m1.3/1.3 MB\u001b[0m \u001b[31m84.4 MB/s\u001b[0m eta \u001b[36m0:00:00\u001b[0m\n",
            "\u001b[2K     \u001b[90m━━━━━━━━━━━━━━━━━━━━━━━━━━━━━━━━━━━━━━━━\u001b[0m \u001b[32m115.3/115.3 kB\u001b[0m \u001b[31m16.1 MB/s\u001b[0m eta \u001b[36m0:00:00\u001b[0m\n",
            "\u001b[2K     \u001b[90m━━━━━━━━━━━━━━━━━━━━━━━━━━━━━━━━━━━━━━━━\u001b[0m \u001b[32m194.1/194.1 kB\u001b[0m \u001b[31m24.1 MB/s\u001b[0m eta \u001b[36m0:00:00\u001b[0m\n",
            "\u001b[2K     \u001b[90m━━━━━━━━━━━━━━━━━━━━━━━━━━━━━━━━━━━━━━━━\u001b[0m \u001b[32m134.8/134.8 kB\u001b[0m \u001b[31m19.0 MB/s\u001b[0m eta \u001b[36m0:00:00\u001b[0m\n",
            "\u001b[2K     \u001b[90m━━━━━━━━━━━━━━━━━━━━━━━━━━━━━━━━━━━━━━━━\u001b[0m \u001b[32m190.0/190.0 kB\u001b[0m \u001b[31m23.3 MB/s\u001b[0m eta \u001b[36m0:00:00\u001b[0m\n",
            "\u001b[2K     \u001b[90m━━━━━━━━━━━━━━━━━━━━━━━━━━━━━━━━━━━━━━━━\u001b[0m \u001b[32m241.0/241.0 kB\u001b[0m \u001b[31m28.5 MB/s\u001b[0m eta \u001b[36m0:00:00\u001b[0m\n",
            "\u001b[?25h  Preparing metadata (setup.py) ... \u001b[?25l\u001b[?25hdone\n",
            "\u001b[2K     \u001b[90m━━━━━━━━━━━━━━━━━━━━━━━━━━━━━━━━━━━━━━━━\u001b[0m \u001b[32m62.7/62.7 kB\u001b[0m \u001b[31m8.6 MB/s\u001b[0m eta \u001b[36m0:00:00\u001b[0m\n",
            "\u001b[2K     \u001b[90m━━━━━━━━━━━━━━━━━━━━━━━━━━━━━━━━━━━━━━━━\u001b[0m \u001b[32m295.0/295.0 kB\u001b[0m \u001b[31m34.1 MB/s\u001b[0m eta \u001b[36m0:00:00\u001b[0m\n",
            "\u001b[?25h  Building wheel for pathtools (setup.py) ... \u001b[?25l\u001b[?25hdone\n"
          ]
        }
      ],
      "source": [
        "!pip install torch numpy transformers datasets tiktoken wandb tqdm pyphen -q"
      ]
    },
    {
      "cell_type": "code",
      "execution_count": null,
      "metadata": {
        "id": "_03K-ZagKqRw"
      },
      "outputs": [],
      "source": [
        "import matplotlib.pyplot as plt\n",
        "import numpy as np\n",
        "import numpy.random as rnd\n",
        "import re\n",
        "import pandas as pd\n",
        "import pyphen\n",
        "import nltk\n",
        "from nltk.tokenize import word_tokenize\n",
        "from nltk.probability import FreqDist"
      ]
    },
    {
      "cell_type": "code",
      "source": [
        "rnd.seed(11111)"
      ],
      "metadata": {
        "id": "sYek4782Yeal"
      },
      "execution_count": null,
      "outputs": []
    },
    {
      "cell_type": "code",
      "execution_count": null,
      "metadata": {
        "colab": {
          "base_uri": "https://localhost:8080/"
        },
        "id": "z2I8wau1zGnv",
        "outputId": "47a94b66-9701-4e4a-a55b-84e095fa6993"
      },
      "outputs": [
        {
          "output_type": "execute_result",
          "data": {
            "text/plain": [
              "True"
            ]
          },
          "metadata": {},
          "execution_count": 3
        }
      ],
      "source": [
        "nltk.download(\"punkt\", quiet=True)"
      ]
    },
    {
      "cell_type": "code",
      "execution_count": null,
      "metadata": {
        "id": "oWoSpnOiKqRx"
      },
      "outputs": [],
      "source": [
        "def histplot(df: pd.DataFrame, bins=60, column=None, xlabel=None, ylabel=\"Frequency\", title=None, saveas=None, saveonly=False, **plot_args):\n",
        "    if column is None:\n",
        "        column = df.columns[0]\n",
        "\n",
        "    if xlabel is None:\n",
        "        xlabel = column\n",
        "\n",
        "    if title is None:\n",
        "        title = f'Distribution of {column}'\n",
        "\n",
        "    # Create a histogram to visualize the distribution of sentence lengths\n",
        "    plt.hist(df[column], bins=np.arange(bins)-.5, **plot_args)\n",
        "    plt.xlabel(xlabel)\n",
        "    plt.ylabel(ylabel)\n",
        "    plt.title(title)\n",
        "\n",
        "    if saveas is not None:\n",
        "        plt.savefig(saveas)\n",
        "\n",
        "    if not saveonly or saveas is None:\n",
        "        plt.show()"
      ]
    },
    {
      "cell_type": "markdown",
      "metadata": {
        "id": "DhqZB8b4MMfw"
      },
      "source": [
        "## Importing data & nanoGPT repo"
      ]
    },
    {
      "cell_type": "code",
      "execution_count": null,
      "metadata": {
        "colab": {
          "base_uri": "https://localhost:8080/"
        },
        "id": "GR9rWdQPMPQj",
        "outputId": "f28a1f90-a0dd-4e0f-c34c-ee8c6bf3b549"
      },
      "outputs": [
        {
          "output_type": "stream",
          "name": "stdout",
          "text": [
            "Mounted at /content/drive\n"
          ]
        }
      ],
      "source": [
        "from google.colab import drive\n",
        "drive.mount('/content/drive')"
      ]
    },
    {
      "cell_type": "code",
      "execution_count": null,
      "metadata": {
        "id": "-Eg1fQwGMpzW",
        "colab": {
          "base_uri": "https://localhost:8080/"
        },
        "outputId": "310305b4-68d8-407a-af9e-f24b7b18478a"
      },
      "outputs": [
        {
          "output_type": "stream",
          "name": "stdout",
          "text": [
            "/content/drive/MyDrive/Lab RU/NLP/Assignment 2 P3\n"
          ]
        }
      ],
      "source": [
        "data_dir = \"/content/drive/MyDrive/Lab RU/NLP/Assignment 2 P3\"\n",
        "\n",
        "%cd $data_dir\n",
        "!cp \"nanoGPT/dante.txt\" \".\""
      ]
    },
    {
      "cell_type": "markdown",
      "metadata": {
        "id": "pR74QIQ-KqRy"
      },
      "source": [
        "## Counting syllables in original text"
      ]
    },
    {
      "cell_type": "code",
      "execution_count": null,
      "metadata": {
        "id": "NTzVjAxWKqRx"
      },
      "outputs": [],
      "source": [
        "def get_syllables(sent, lang):\n",
        "    def foo(s):\n",
        "        s = s.removesuffix(\"-\").removeprefix(\"-\")\n",
        "\n",
        "        hyphens = re.findall(\"-\", s)\n",
        "\n",
        "        if len(hyphens) == 0:\n",
        "            return [s]\n",
        "\n",
        "        sections = s.split(\"-\")\n",
        "        if len(hyphens) > 1:\n",
        "            return sections\n",
        "\n",
        "        vowel_pat = re.compile(\"[AEIOUaeiou]\")\n",
        "\n",
        "        vow1 = vowel_pat.search(sections[0])\n",
        "        vow2 = vowel_pat.search(sections[1])\n",
        "\n",
        "        # If both halves contain vowels then it's a compound word\n",
        "        if vow1 != None and vow2 != None:\n",
        "            return sections\n",
        "\n",
        "        return [s.replace(\"-\", \"\")]\n",
        "\n",
        "    dic = pyphen.Pyphen(lang=lang)\n",
        "\n",
        "    syllables = dic.inserted(sent)\n",
        "\n",
        "    syllables = [s for s in syllables.split(\" \")]\n",
        "    syllables = [s1 for s in syllables for s1 in foo(s)]\n",
        "\n",
        "    return syllables\n",
        "\n",
        "def count_syllables(sent, lang):\n",
        "    return len(get_syllables(sent, lang))\n",
        "\n",
        "# get_syllables('ed elli avea del cul fatto trombetta', lang='it_IT')\n",
        "# count_syllables('ed elli avea del cul fatto trombetta', lang='it_IT')"
      ]
    },
    {
      "cell_type": "code",
      "execution_count": null,
      "metadata": {
        "id": "YmU4-RDYu0bZ"
      },
      "outputs": [],
      "source": [
        "def get_syll_dataframe(lines, lang):\n",
        "    if type(lines) is str:\n",
        "        lines = lines.split(\"\\n\")\n",
        "\n",
        "    data = pd.DataFrame([line.strip() for line in lines], columns=['text'])\n",
        "    data[\"syl-count\"] = data[\"text\"].apply(lambda x: count_syllables(x, lang=lang))\n",
        "\n",
        "    return data\n",
        "\n",
        "def plot_syllcount(data, saveas):\n",
        "    max_count = data[\"syl-count\"].max()\n",
        "    histplot(data, bins=max_count, column=\"syl-count\",\n",
        "            xlabel=\"Syllable Count\", title=\"Syllable count distribution\", saveas=saveas,\n",
        "            edgecolor=\"black\", linewidth=1.2, color=\"lightblue\", range=[1,max_count])"
      ]
    },
    {
      "cell_type": "code",
      "execution_count": null,
      "metadata": {
        "id": "e8rDynTZKqRz",
        "colab": {
          "base_uri": "https://localhost:8080/",
          "height": 206
        },
        "outputId": "1c9d9215-e9d5-40dc-fda6-a6e807919407"
      },
      "outputs": [
        {
          "output_type": "execute_result",
          "data": {
            "text/plain": [
              "                                     text  syl-count\n",
              "0     Nel mezzo del cammin di nostra vita         12\n",
              "1        mi ritrovai per una selva oscura         12\n",
              "2       che' la diritta via era smarrita.         11\n",
              "3  Ahi quanto a dir qual era e' cosa dura         13\n",
              "4    esta selva selvaggia e aspra e forte         12"
            ],
            "text/html": [
              "\n",
              "  <div id=\"df-ad6d661a-88e4-4fc3-accc-1d2bf3accb67\" class=\"colab-df-container\">\n",
              "    <div>\n",
              "<style scoped>\n",
              "    .dataframe tbody tr th:only-of-type {\n",
              "        vertical-align: middle;\n",
              "    }\n",
              "\n",
              "    .dataframe tbody tr th {\n",
              "        vertical-align: top;\n",
              "    }\n",
              "\n",
              "    .dataframe thead th {\n",
              "        text-align: right;\n",
              "    }\n",
              "</style>\n",
              "<table border=\"1\" class=\"dataframe\">\n",
              "  <thead>\n",
              "    <tr style=\"text-align: right;\">\n",
              "      <th></th>\n",
              "      <th>text</th>\n",
              "      <th>syl-count</th>\n",
              "    </tr>\n",
              "  </thead>\n",
              "  <tbody>\n",
              "    <tr>\n",
              "      <th>0</th>\n",
              "      <td>Nel mezzo del cammin di nostra vita</td>\n",
              "      <td>12</td>\n",
              "    </tr>\n",
              "    <tr>\n",
              "      <th>1</th>\n",
              "      <td>mi ritrovai per una selva oscura</td>\n",
              "      <td>12</td>\n",
              "    </tr>\n",
              "    <tr>\n",
              "      <th>2</th>\n",
              "      <td>che' la diritta via era smarrita.</td>\n",
              "      <td>11</td>\n",
              "    </tr>\n",
              "    <tr>\n",
              "      <th>3</th>\n",
              "      <td>Ahi quanto a dir qual era e' cosa dura</td>\n",
              "      <td>13</td>\n",
              "    </tr>\n",
              "    <tr>\n",
              "      <th>4</th>\n",
              "      <td>esta selva selvaggia e aspra e forte</td>\n",
              "      <td>12</td>\n",
              "    </tr>\n",
              "  </tbody>\n",
              "</table>\n",
              "</div>\n",
              "    <div class=\"colab-df-buttons\">\n",
              "\n",
              "  <div class=\"colab-df-container\">\n",
              "    <button class=\"colab-df-convert\" onclick=\"convertToInteractive('df-ad6d661a-88e4-4fc3-accc-1d2bf3accb67')\"\n",
              "            title=\"Convert this dataframe to an interactive table.\"\n",
              "            style=\"display:none;\">\n",
              "\n",
              "  <svg xmlns=\"http://www.w3.org/2000/svg\" height=\"24px\" viewBox=\"0 -960 960 960\">\n",
              "    <path d=\"M120-120v-720h720v720H120Zm60-500h600v-160H180v160Zm220 220h160v-160H400v160Zm0 220h160v-160H400v160ZM180-400h160v-160H180v160Zm440 0h160v-160H620v160ZM180-180h160v-160H180v160Zm440 0h160v-160H620v160Z\"/>\n",
              "  </svg>\n",
              "    </button>\n",
              "\n",
              "  <style>\n",
              "    .colab-df-container {\n",
              "      display:flex;\n",
              "      gap: 12px;\n",
              "    }\n",
              "\n",
              "    .colab-df-convert {\n",
              "      background-color: #E8F0FE;\n",
              "      border: none;\n",
              "      border-radius: 50%;\n",
              "      cursor: pointer;\n",
              "      display: none;\n",
              "      fill: #1967D2;\n",
              "      height: 32px;\n",
              "      padding: 0 0 0 0;\n",
              "      width: 32px;\n",
              "    }\n",
              "\n",
              "    .colab-df-convert:hover {\n",
              "      background-color: #E2EBFA;\n",
              "      box-shadow: 0px 1px 2px rgba(60, 64, 67, 0.3), 0px 1px 3px 1px rgba(60, 64, 67, 0.15);\n",
              "      fill: #174EA6;\n",
              "    }\n",
              "\n",
              "    .colab-df-buttons div {\n",
              "      margin-bottom: 4px;\n",
              "    }\n",
              "\n",
              "    [theme=dark] .colab-df-convert {\n",
              "      background-color: #3B4455;\n",
              "      fill: #D2E3FC;\n",
              "    }\n",
              "\n",
              "    [theme=dark] .colab-df-convert:hover {\n",
              "      background-color: #434B5C;\n",
              "      box-shadow: 0px 1px 3px 1px rgba(0, 0, 0, 0.15);\n",
              "      filter: drop-shadow(0px 1px 2px rgba(0, 0, 0, 0.3));\n",
              "      fill: #FFFFFF;\n",
              "    }\n",
              "  </style>\n",
              "\n",
              "    <script>\n",
              "      const buttonEl =\n",
              "        document.querySelector('#df-ad6d661a-88e4-4fc3-accc-1d2bf3accb67 button.colab-df-convert');\n",
              "      buttonEl.style.display =\n",
              "        google.colab.kernel.accessAllowed ? 'block' : 'none';\n",
              "\n",
              "      async function convertToInteractive(key) {\n",
              "        const element = document.querySelector('#df-ad6d661a-88e4-4fc3-accc-1d2bf3accb67');\n",
              "        const dataTable =\n",
              "          await google.colab.kernel.invokeFunction('convertToInteractive',\n",
              "                                                    [key], {});\n",
              "        if (!dataTable) return;\n",
              "\n",
              "        const docLinkHtml = 'Like what you see? Visit the ' +\n",
              "          '<a target=\"_blank\" href=https://colab.research.google.com/notebooks/data_table.ipynb>data table notebook</a>'\n",
              "          + ' to learn more about interactive tables.';\n",
              "        element.innerHTML = '';\n",
              "        dataTable['output_type'] = 'display_data';\n",
              "        await google.colab.output.renderOutput(dataTable, element);\n",
              "        const docLink = document.createElement('div');\n",
              "        docLink.innerHTML = docLinkHtml;\n",
              "        element.appendChild(docLink);\n",
              "      }\n",
              "    </script>\n",
              "  </div>\n",
              "\n",
              "\n",
              "<div id=\"df-2df9ead0-846e-4da1-a75d-60d39935c710\">\n",
              "  <button class=\"colab-df-quickchart\" onclick=\"quickchart('df-2df9ead0-846e-4da1-a75d-60d39935c710')\"\n",
              "            title=\"Suggest charts.\"\n",
              "            style=\"display:none;\">\n",
              "\n",
              "<svg xmlns=\"http://www.w3.org/2000/svg\" height=\"24px\"viewBox=\"0 0 24 24\"\n",
              "     width=\"24px\">\n",
              "    <g>\n",
              "        <path d=\"M19 3H5c-1.1 0-2 .9-2 2v14c0 1.1.9 2 2 2h14c1.1 0 2-.9 2-2V5c0-1.1-.9-2-2-2zM9 17H7v-7h2v7zm4 0h-2V7h2v10zm4 0h-2v-4h2v4z\"/>\n",
              "    </g>\n",
              "</svg>\n",
              "  </button>\n",
              "\n",
              "<style>\n",
              "  .colab-df-quickchart {\n",
              "      --bg-color: #E8F0FE;\n",
              "      --fill-color: #1967D2;\n",
              "      --hover-bg-color: #E2EBFA;\n",
              "      --hover-fill-color: #174EA6;\n",
              "      --disabled-fill-color: #AAA;\n",
              "      --disabled-bg-color: #DDD;\n",
              "  }\n",
              "\n",
              "  [theme=dark] .colab-df-quickchart {\n",
              "      --bg-color: #3B4455;\n",
              "      --fill-color: #D2E3FC;\n",
              "      --hover-bg-color: #434B5C;\n",
              "      --hover-fill-color: #FFFFFF;\n",
              "      --disabled-bg-color: #3B4455;\n",
              "      --disabled-fill-color: #666;\n",
              "  }\n",
              "\n",
              "  .colab-df-quickchart {\n",
              "    background-color: var(--bg-color);\n",
              "    border: none;\n",
              "    border-radius: 50%;\n",
              "    cursor: pointer;\n",
              "    display: none;\n",
              "    fill: var(--fill-color);\n",
              "    height: 32px;\n",
              "    padding: 0;\n",
              "    width: 32px;\n",
              "  }\n",
              "\n",
              "  .colab-df-quickchart:hover {\n",
              "    background-color: var(--hover-bg-color);\n",
              "    box-shadow: 0 1px 2px rgba(60, 64, 67, 0.3), 0 1px 3px 1px rgba(60, 64, 67, 0.15);\n",
              "    fill: var(--button-hover-fill-color);\n",
              "  }\n",
              "\n",
              "  .colab-df-quickchart-complete:disabled,\n",
              "  .colab-df-quickchart-complete:disabled:hover {\n",
              "    background-color: var(--disabled-bg-color);\n",
              "    fill: var(--disabled-fill-color);\n",
              "    box-shadow: none;\n",
              "  }\n",
              "\n",
              "  .colab-df-spinner {\n",
              "    border: 2px solid var(--fill-color);\n",
              "    border-color: transparent;\n",
              "    border-bottom-color: var(--fill-color);\n",
              "    animation:\n",
              "      spin 1s steps(1) infinite;\n",
              "  }\n",
              "\n",
              "  @keyframes spin {\n",
              "    0% {\n",
              "      border-color: transparent;\n",
              "      border-bottom-color: var(--fill-color);\n",
              "      border-left-color: var(--fill-color);\n",
              "    }\n",
              "    20% {\n",
              "      border-color: transparent;\n",
              "      border-left-color: var(--fill-color);\n",
              "      border-top-color: var(--fill-color);\n",
              "    }\n",
              "    30% {\n",
              "      border-color: transparent;\n",
              "      border-left-color: var(--fill-color);\n",
              "      border-top-color: var(--fill-color);\n",
              "      border-right-color: var(--fill-color);\n",
              "    }\n",
              "    40% {\n",
              "      border-color: transparent;\n",
              "      border-right-color: var(--fill-color);\n",
              "      border-top-color: var(--fill-color);\n",
              "    }\n",
              "    60% {\n",
              "      border-color: transparent;\n",
              "      border-right-color: var(--fill-color);\n",
              "    }\n",
              "    80% {\n",
              "      border-color: transparent;\n",
              "      border-right-color: var(--fill-color);\n",
              "      border-bottom-color: var(--fill-color);\n",
              "    }\n",
              "    90% {\n",
              "      border-color: transparent;\n",
              "      border-bottom-color: var(--fill-color);\n",
              "    }\n",
              "  }\n",
              "</style>\n",
              "\n",
              "  <script>\n",
              "    async function quickchart(key) {\n",
              "      const quickchartButtonEl =\n",
              "        document.querySelector('#' + key + ' button');\n",
              "      quickchartButtonEl.disabled = true;  // To prevent multiple clicks.\n",
              "      quickchartButtonEl.classList.add('colab-df-spinner');\n",
              "      try {\n",
              "        const charts = await google.colab.kernel.invokeFunction(\n",
              "            'suggestCharts', [key], {});\n",
              "      } catch (error) {\n",
              "        console.error('Error during call to suggestCharts:', error);\n",
              "      }\n",
              "      quickchartButtonEl.classList.remove('colab-df-spinner');\n",
              "      quickchartButtonEl.classList.add('colab-df-quickchart-complete');\n",
              "    }\n",
              "    (() => {\n",
              "      let quickchartButtonEl =\n",
              "        document.querySelector('#df-2df9ead0-846e-4da1-a75d-60d39935c710 button');\n",
              "      quickchartButtonEl.style.display =\n",
              "        google.colab.kernel.accessAllowed ? 'block' : 'none';\n",
              "    })();\n",
              "  </script>\n",
              "</div>\n",
              "    </div>\n",
              "  </div>\n"
            ]
          },
          "metadata": {},
          "execution_count": 9
        }
      ],
      "source": [
        "with open('dante.txt', 'r') as f:\n",
        "    lines_original = f.readlines()\n",
        "\n",
        "data = get_syll_dataframe(lines_original, lang=\"it_IT\")\n",
        "data.head()"
      ]
    },
    {
      "cell_type": "code",
      "execution_count": null,
      "metadata": {
        "id": "CkMLXhsEKqRz",
        "colab": {
          "base_uri": "https://localhost:8080/",
          "height": 472
        },
        "outputId": "e381541a-c17d-41dd-88f3-cb93e6ba1bde"
      },
      "outputs": [
        {
          "output_type": "display_data",
          "data": {
            "text/plain": [
              "<Figure size 640x480 with 1 Axes>"
            ],
            "image/png": "[encoded data removed]"
          },
          "metadata": {}
        }
      ],
      "source": [
        "plot_syllcount(data, \"original.png\")"
      ]
    },
    {
      "cell_type": "markdown",
      "metadata": {
        "id": "5aq0c7REKqRz"
      },
      "source": [
        "## Experiment"
      ]
    },
    {
      "cell_type": "markdown",
      "metadata": {
        "id": "ZwBCxs_F9tUg"
      },
      "source": [
        "### Helper functions"
      ]
    },
    {
      "cell_type": "code",
      "execution_count": null,
      "metadata": {
        "id": "n8rGLbUweqb5"
      },
      "outputs": [],
      "source": [
        "def get_combined_range(values1, values2):\n",
        "    return np.arange(min(np.min(values1), np.min(values2)),\n",
        "                     max(np.max(values1), np.max(values2)) + 1)\n",
        "\n",
        "\n",
        "def column_distribution(df, column_name, custom_range=None, zero_eps=1e-10):\n",
        "    # Extract the values of column X from both DataFrames\n",
        "    values = df[column_name].values\n",
        "\n",
        "    if custom_range is None:\n",
        "        custom_range = np.unique(df[column_name].values)\n",
        "\n",
        "    distrib = np.histogram(values, bins=custom_range)[0] / len(values)\n",
        "\n",
        "    return distrib + zero_eps"
      ]
    },
    {
      "cell_type": "code",
      "execution_count": null,
      "metadata": {
        "id": "MjR2I2V9lRYL"
      },
      "outputs": [],
      "source": [
        "def get_distributions(df1, df2, column):\n",
        "    # Extract the values of column X from both DataFrames\n",
        "    values_df1 = df1[column].values\n",
        "    values_df2 = df2[column].values\n",
        "\n",
        "    # Define the range based on all unique values in both DataFrames\n",
        "    value_range = get_combined_range(values_df1, values_df2)\n",
        "\n",
        "    # Calculate the probability distributions for each DataFrame over the defined range\n",
        "    # Add a small epsilon value to avoid division by zero or taking the log of zero\n",
        "    epsilon = 1e-10\n",
        "\n",
        "    distribution_df1 = column_distribution(df1, column, custom_range = value_range, zero_eps = epsilon)\n",
        "    distribution_df2 = column_distribution(df2, column, custom_range = value_range, zero_eps = epsilon)\n",
        "\n",
        "    return distribution_df1, distribution_df2\n"
      ]
    },
    {
      "cell_type": "code",
      "execution_count": null,
      "metadata": {
        "id": "Om5SJiB3IMhk"
      },
      "outputs": [],
      "source": [
        "def calculate_cross_entropy(df1, df2, column_name):\n",
        "    distribution_df1, distribution_df2 = get_distributions(df1, df2, column_name)\n",
        "\n",
        "    # Ensure that the distributions have the same shape\n",
        "    min_length = min(len(distribution_df1), len(distribution_df2))\n",
        "    distribution_df1 = distribution_df1[:min_length]\n",
        "    distribution_df2 = distribution_df2[:min_length]\n",
        "\n",
        "    # Compute the cross-entropy\n",
        "    cross_entropy = -np.sum(distribution_df1 * np.log(distribution_df2))\n",
        "\n",
        "    return cross_entropy"
      ]
    },
    {
      "cell_type": "code",
      "execution_count": null,
      "metadata": {
        "id": "F3wsdd5PIRX4"
      },
      "outputs": [],
      "source": [
        "def calculate_jensen_shannon(df1, df2, column_name):\n",
        "    distribution_df1, distribution_df2 = get_distributions(df1, df2, column_name)\n",
        "\n",
        "    # Compute the average distribution\n",
        "    average_distribution = 0.5 * (distribution_df1 + distribution_df2)\n",
        "\n",
        "    # Calculate Jensen-Shannon Divergence for each distribution relative to the average distribution\n",
        "    js_divergence_df1 = np.sum(distribution_df1 * np.log2(distribution_df1 / average_distribution))\n",
        "    js_divergence_df2 = np.sum(distribution_df2 * np.log2(distribution_df2 / average_distribution))\n",
        "\n",
        "    # Calculate the Jensen-Shannon Distance\n",
        "    jensen_shannon_distance = np.sqrt(0.5 * (js_divergence_df1 + js_divergence_df2))\n",
        "\n",
        "    return jensen_shannon_distance"
      ]
    },
    {
      "cell_type": "code",
      "execution_count": null,
      "metadata": {
        "id": "cuhCZPlOyw7M"
      },
      "outputs": [],
      "source": [
        "def text_to_vocab(text):\n",
        "    tokens = word_tokenize(text)\n",
        "    freq_dist = FreqDist(tokens)\n",
        "\n",
        "    return list(freq_dist.keys())"
      ]
    },
    {
      "cell_type": "code",
      "source": [
        "def sample_lines(text, count):\n",
        "    l = len(text)\n",
        "    lines = text.split(\"\\n\")\n",
        "\n",
        "    if count < 0 or count > l:\n",
        "        return []\n",
        "\n",
        "    start = rnd.randint(l-count+1)\n",
        "\n",
        "    return lines[start:start+count]"
      ],
      "metadata": {
        "id": "vElmoA06YFsM"
      },
      "execution_count": null,
      "outputs": []
    },
    {
      "cell_type": "markdown",
      "metadata": {
        "id": "Jt5bwdXXa6AU"
      },
      "source": [
        "### Model setup & training"
      ]
    },
    {
      "cell_type": "code",
      "source": [
        "params = [\n",
        "    {\n",
        "        \"eval_iters\": 20,\n",
        "        \"block_size\": 64,\n",
        "        \"batch_size\": 12,\n",
        "        \"n_layer\": 4,\n",
        "        \"n_head\": 4,\n",
        "        \"n_embd\": 32, # * n_head => 128\n",
        "        \"lr_decay_iters\": 2000,\n",
        "        \"dropout\": 0.0,\n",
        "        \"max_iters\": 2000,\n",
        "    },\n",
        "    {\n",
        "        \"n_layer\": 4,\n",
        "        \"n_head\": 4,\n",
        "        \"n_embd\": 32, # * n_head => 128\n",
        "        \"block_size\": 128,\n",
        "        \"max_iters\": 4000,\n",
        "    },\n",
        "    {}, # n_embed = 384, block_size = 256, n_layer = n_head = 6\n",
        "    {\n",
        "        \"n_layer\": 12,\n",
        "        \"n_head\": 12,\n",
        "        \"n_embd\": 24, # * n_head => 768\n",
        "        \"block_size\": 256,\n",
        "    },\n",
        "    {\n",
        "        \"n_layer\": 12,\n",
        "        \"n_head\": 12,\n",
        "        \"n_embd\": 24, # * n_head => 768\n",
        "        \"block_size\": 512,\n",
        "        \"max_iters\": 6000,\n",
        "    }\n",
        "]"
      ],
      "metadata": {
        "id": "5plJE03ZiYs0"
      },
      "execution_count": null,
      "outputs": []
    },
    {
      "cell_type": "code",
      "execution_count": null,
      "metadata": {
        "id": "wpv8rOUqA-2m"
      },
      "outputs": [],
      "source": [
        "import os\n",
        "\n",
        "full_text = \" \".join(lines_original)\n",
        "full_vocab = text_to_vocab(full_text)\n",
        "\n",
        "def params_to_str(params_dict: dict):\n",
        "    return \" \".join([f\"--{key}={value}\" for key, value in params_dict.items()])\n",
        "\n",
        "def run_test(id=0, _params_dict={}, do_train=True, do_sample=True):\n",
        "    print(f\"=====================RUNNING TEST: {id}\")\n",
        "\n",
        "    params_dict = dict(_params_dict)\n",
        "\n",
        "    params_dict.update({\n",
        "        \"log_interval\": 10,\n",
        "        #\"device\": \"cpu\",\n",
        "        \"compile\": \"False\"\n",
        "    })\n",
        "\n",
        "    # Make sure the embedding size is a multiple of n_head\n",
        "    if \"n_embd\" in params_dict.keys():\n",
        "        n_head = params_dict.get(\"n_head\", 6) # default n_head = 6\n",
        "        params_dict[\"n_embd\"] *= n_head\n",
        "\n",
        "    print(f\"Training overrides:\")\n",
        "    print(*[f\"\\t{key} = {value}\" for key,value in params_dict.items()], sep=\"\\n\")\n",
        "    print()\n",
        "\n",
        "    train_args = params_to_str(params_dict)\n",
        "\n",
        "    results_dir = f\"tests/results/{id}\"\n",
        "    train_out = os.path.join(results_dir, f\"train_output_{id}.txt\")\n",
        "    sample = os.path.join(results_dir, f\"dante_gen_{id}.txt\")\n",
        "    sample_plot = os.path.join(results_dir, f\"syllplot_{id}.png\")\n",
        "    stats = os.path.join(results_dir, f\"stats_{id}.txt\")\n",
        "\n",
        "    print(f\"Results dir: {results_dir}\")\n",
        "    print(f\"Training output: {train_out}\")\n",
        "    print(f\"Sample text: {sample}\")\n",
        "    print(f\"Syl-count plot: {sample_plot}\")\n",
        "    print(f\"Stats: {stats}\")\n",
        "\n",
        "    if do_train:\n",
        "        print()\n",
        "        print(\"TRAINING\")\n",
        "        print()\n",
        "\n",
        "        #!mkdir -p ${tmp}\n",
        "        !cd nanoGPT; python data/shakespeare_char/prepare.py\n",
        "        print()\n",
        "\n",
        "        tmp = os.path.join(\"..\", train_out)\n",
        "        !cd nanoGPT; python train.py config/train_shakespeare_char.py {train_args} | tee {tmp}\n",
        "        print()\n",
        "\n",
        "    if do_sample:\n",
        "        print(\"SAMPLING\")\n",
        "        print()\n",
        "\n",
        "        sampling_params = {\n",
        "            #\"device\": \"cpu\",\n",
        "            \"out_dir\": \"out-shakespeare-char\"\n",
        "        }\n",
        "\n",
        "        tmp = os.path.join(\"..\", sample)\n",
        "        tmp2 = params_to_str(sampling_params)\n",
        "        !cd nanoGPT; python sample.py {tmp2} | tail -n +5 | sed '/^-*$/d' > {tmp}\n",
        "\n",
        "    with open(sample, \"r\") as f:\n",
        "        sample_lines = [line for line in f if line.strip()] # Non-blank lines\n",
        "\n",
        "    lines_count = len(sample_lines)\n",
        "    ref_lines = rnd.choice(lines_original, lines_count, replace=False)\n",
        "\n",
        "    data_ref = get_syll_dataframe(ref_lines, lang=\"it_IT\")\n",
        "    data_gen = get_syll_dataframe(sample_lines, lang=\"it_IT\")\n",
        "    plot_syllcount(data_gen, saveas=sample_plot)\n",
        "\n",
        "    ce = calculate_cross_entropy(data_ref, data_gen, \"syl-count\")\n",
        "    js = calculate_jensen_shannon(data_ref, data_gen, \"syl-count\")\n",
        "\n",
        "    sample_text = \" \".join(sample_lines)\n",
        "    sample_vocab = text_to_vocab(sample_text)\n",
        "\n",
        "    tot = len(sample_vocab)\n",
        "    existing = len([v for v in sample_vocab if v in full_vocab])\n",
        "\n",
        "    train_loss = 0.\n",
        "    val_loss = 0.\n",
        "\n",
        "    with open(train_out, \"r\") as f:\n",
        "        lines = f.readlines()\n",
        "        target = \"\".join(lines[-5:])\n",
        "\n",
        "        pattern = r\"train loss (\\d+\\.\\d+), val loss (\\d+\\.\\d+)\"\n",
        "\n",
        "        pat_match = re.search(pattern, target)\n",
        "\n",
        "        if pat_match:\n",
        "            train_loss = float(pat_match.group(1))\n",
        "            val_loss = float(pat_match.group(2))\n",
        "\n",
        "    with open(stats, \"w\") as f:\n",
        "        f.write(f\"Train Loss: {train_loss}\\n\")\n",
        "        f.write(f\"Validation Loss: {val_loss}\\n\")\n",
        "\n",
        "        f.write(f\"Cross-Entropy: {ce:.3f}\\n\")\n",
        "        f.write(f\"Jensen-Shannon: {js*100.:.3f}%\\n\")\n",
        "\n",
        "        f.write(f\"% of sample words found in original vocabulary: {existing / tot*100.:.3f}%\\n\")\n",
        "\n",
        "    print(\"FINAL STATS\")\n",
        "    !cat {stats}\n",
        "    print()"
      ]
    },
    {
      "cell_type": "code",
      "execution_count": null,
      "metadata": {
        "colab": {
          "base_uri": "https://localhost:8080/",
          "height": 1000
        },
        "id": "Gf-AwYm4DYgo",
        "outputId": "0fc28f19-53df-403b-cacf-ca10dae317be"
      },
      "outputs": [
        {
          "output_type": "stream",
          "name": "stdout",
          "text": [
            "=====================RUNNING TEST: 0\n",
            "Training overrides:\n",
            "\teval_iters = 20\n",
            "\tblock_size = 64\n",
            "\tbatch_size = 12\n",
            "\tn_layer = 4\n",
            "\tn_head = 4\n",
            "\tn_embd = 128\n",
            "\tlr_decay_iters = 2000\n",
            "\tdropout = 0.0\n",
            "\tmax_iters = 2000\n",
            "\tlog_interval = 10\n",
            "\tcompile = False\n",
            "\n",
            "Results dir: tests/results/0\n",
            "Training output: tests/results/0/train_output_0.txt\n",
            "Sample text: tests/results/0/dante_gen_0.txt\n",
            "Syl-count plot: tests/results/0/syllplot_0.png\n",
            "Stats: tests/results/0/stats_0.txt\n"
          ]
        },
        {
          "output_type": "display_data",
          "data": {
            "text/plain": [
              "<Figure size 640x480 with 1 Axes>"
            ],
            "image/png": "[encoded data removed]"
          },
          "metadata": {}
        },
        {
          "output_type": "stream",
          "name": "stdout",
          "text": [
            "FINAL STATS\n",
            "Train Loss: 1.7751\n",
            "Validation Loss: 1.7753\n",
            "Cross-Entropy: 1.647\n",
            "Jensen-Shannon: 27.827%\n",
            "% of sample words found in original vocabulary: 37.361%\n",
            "\n",
            "\n",
            "=====================RUNNING TEST: 1\n",
            "Training overrides:\n",
            "\tn_layer = 4\n",
            "\tn_head = 4\n",
            "\tn_embd = 128\n",
            "\tblock_size = 128\n",
            "\tmax_iters = 4000\n",
            "\tlog_interval = 10\n",
            "\tcompile = False\n",
            "\n",
            "Results dir: tests/results/1\n",
            "Training output: tests/results/1/train_output_1.txt\n",
            "Sample text: tests/results/1/dante_gen_1.txt\n",
            "Syl-count plot: tests/results/1/syllplot_1.png\n",
            "Stats: tests/results/1/stats_1.txt\n"
          ]
        },
        {
          "output_type": "display_data",
          "data": {
            "text/plain": [
              "<Figure size 640x480 with 1 Axes>"
            ],
            "image/png": "[encoded data removed]"
          },
          "metadata": {}
        },
        {
          "output_type": "stream",
          "name": "stdout",
          "text": [
            "FINAL STATS\n",
            "Train Loss: 1.4479\n",
            "Validation Loss: 1.4821\n",
            "Cross-Entropy: 1.546\n",
            "Jensen-Shannon: 16.264%\n",
            "% of sample words found in original vocabulary: 72.667%\n",
            "\n",
            "\n",
            "=====================RUNNING TEST: 2\n",
            "Training overrides:\n",
            "\tlog_interval = 10\n",
            "\tcompile = False\n",
            "\n",
            "Results dir: tests/results/2\n",
            "Training output: tests/results/2/train_output_2.txt\n",
            "Sample text: tests/results/2/dante_gen_2.txt\n",
            "Syl-count plot: tests/results/2/syllplot_2.png\n",
            "Stats: tests/results/2/stats_2.txt\n"
          ]
        },
        {
          "output_type": "display_data",
          "data": {
            "text/plain": [
              "<Figure size 640x480 with 1 Axes>"
            ],
            "image/png": "[encoded data removed]"
          },
          "metadata": {}
        },
        {
          "output_type": "stream",
          "name": "stdout",
          "text": [
            "FINAL STATS\n",
            "Train Loss: 0.1481\n",
            "Validation Loss: 2.2943\n",
            "Cross-Entropy: 1.975\n",
            "Jensen-Shannon: 29.664%\n",
            "% of sample words found in original vocabulary: 87.041%\n",
            "\n",
            "\n",
            "=====================RUNNING TEST: 3\n",
            "Training overrides:\n",
            "\tn_layer = 12\n",
            "\tn_head = 12\n",
            "\tn_embd = 288\n",
            "\tblock_size = 256\n",
            "\tlog_interval = 10\n",
            "\tcompile = False\n",
            "\n",
            "Results dir: tests/results/3\n",
            "Training output: tests/results/3/train_output_3.txt\n",
            "Sample text: tests/results/3/dante_gen_3.txt\n",
            "Syl-count plot: tests/results/3/syllplot_3.png\n",
            "Stats: tests/results/3/stats_3.txt\n"
          ]
        },
        {
          "output_type": "display_data",
          "data": {
            "text/plain": [
              "<Figure size 640x480 with 1 Axes>"
            ],
            "image/png": "[encoded data removed]"
          },
          "metadata": {}
        },
        {
          "output_type": "stream",
          "name": "stdout",
          "text": [
            "FINAL STATS\n",
            "Train Loss: 0.1028\n",
            "Validation Loss: 2.7737\n",
            "Cross-Entropy: 1.542\n",
            "Jensen-Shannon: 25.190%\n",
            "% of sample words found in original vocabulary: 80.911%\n",
            "\n",
            "\n",
            "=====================RUNNING TEST: 4\n",
            "Training overrides:\n",
            "\tn_layer = 12\n",
            "\tn_head = 12\n",
            "\tn_embd = 288\n",
            "\tblock_size = 512\n",
            "\tmax_iters = 6000\n",
            "\tlog_interval = 10\n",
            "\tcompile = False\n",
            "\n",
            "Results dir: tests/results/4\n",
            "Training output: tests/results/4/train_output_4.txt\n",
            "Sample text: tests/results/4/dante_gen_4.txt\n",
            "Syl-count plot: tests/results/4/syllplot_4.png\n",
            "Stats: tests/results/4/stats_4.txt\n"
          ]
        },
        {
          "output_type": "display_data",
          "data": {
            "text/plain": [
              "<Figure size 640x480 with 1 Axes>"
            ],
            "image/png": "[encoded data removed]"
          },
          "metadata": {}
        },
        {
          "output_type": "stream",
          "name": "stdout",
          "text": [
            "FINAL STATS\n",
            "Train Loss: 0.0499\n",
            "Validation Loss: 3.505\n",
            "Cross-Entropy: 1.549\n",
            "Jensen-Shannon: 19.159%\n",
            "% of sample words found in original vocabulary: 78.889%\n",
            "\n",
            "\n"
          ]
        }
      ],
      "source": [
        "for id, args in enumerate(params):\n",
        "    run_test(id, args, do_train=False, do_sample=False)\n",
        "    print()"
      ]
    }
  ],
  "metadata": {
    "accelerator": "GPU",
    "colab": {
      "provenance": [],
      "gpuType": "T4"
    },
    "kernelspec": {
      "display_name": "Python 3",
      "name": "python3"
    },
    "language_info": {
      "codemirror_mode": {
        "name": "ipython",
        "version": 3
      },
      "file_extension": ".py",
      "mimetype": "text/x-python",
      "name": "python",
      "nbconvert_exporter": "python",
      "pygments_lexer": "ipython3",
      "version": "3.11.4"
    }
  },
  "nbformat": 4,
  "nbformat_minor": 0
}