{
  "cells": [
    {
      "cell_type": "markdown",
      "metadata": {
        "id": "otXzaijYhN9A"
      },
      "source": [
        "# T-725 Natural Language Processing: Lab 8\n",
        "In today's lab, we will be working with named entity recognition and information extraction.\n",
        "\n",
        "To begin with, do the following:\n",
        "* Select `\"File\" > \"Save a copy in Drive\"` to create a local copy of this notebook that you can edit.\n",
        "* Select `\"Runtime\" > \"Run all\"` to run the code in this notebook."
      ]
    },
    {
      "cell_type": "code",
      "execution_count": 81,
      "metadata": {
        "colab": {
          "base_uri": "https://localhost:8080/"
        },
        "id": "detFWJ_K3a2s",
        "outputId": "0d86cf82-1fd1-4f7d-8197-3411947c31a0"
      },
      "outputs": [
        {
          "data": {
            "text/plain": [
              "True"
            ]
          },
          "execution_count": 81,
          "metadata": {},
          "output_type": "execute_result"
        }
      ],
      "source": [
        "import nltk\n",
        "nltk.download('maxent_ne_chunker', quiet=True)\n",
        "nltk.download('words', quiet=True)\n",
        "nltk.download('punkt', quiet=True)\n",
        "nltk.download('averaged_perceptron_tagger', quiet=True)"
      ]
    },
    {
      "cell_type": "markdown",
      "metadata": {
        "id": "G-iYPlKHMZtT"
      },
      "source": [
        "## Named entity recognition\n",
        "NLTK includes a classifier for tagging named entities, which is described in [Chapter 7.5](https://www.nltk.org/book/ch07.html#sec-ner) of the NLTK book."
      ]
    },
    {
      "cell_type": "code",
      "execution_count": 82,
      "metadata": {
        "colab": {
          "base_uri": "https://localhost:8080/"
        },
        "id": "RrCifMSL627g",
        "outputId": "cc33415f-2d4e-43dc-d523-29c33483dcb2"
      },
      "outputs": [
        {
          "name": "stdout",
          "output_type": "stream",
          "text": [
            "(S\n",
            "  The/DT\n",
            "  2020/CD\n",
            "  Nobel/NNP\n",
            "  Prize/NNP\n",
            "  in/IN\n",
            "  (GPE Physics/NNP)\n",
            "  is/VBZ\n",
            "  awarded/VBN\n",
            "  to/TO\n",
            "  (PERSON Roger/NNP Penrose/NNP)\n",
            "  ,/,\n",
            "  (PERSON Reinhard/NNP Genzel/NNP)\n",
            "  and/CC\n",
            "  (PERSON Andrea/NNP Ghez/NNP)\n",
            "  for/IN\n",
            "  their/PRP$\n",
            "  work/NN\n",
            "  on/IN\n",
            "  black/JJ\n",
            "  holes/NNS\n",
            "  ./.)\n"
          ]
        }
      ],
      "source": [
        "sent = \"\"\"The 2020 Nobel Prize in Physics is awarded to Roger Penrose, Reinhard\n",
        "Genzel and Andrea Ghez for their work on black holes.\"\"\"\n",
        "\n",
        "sent_tokens = nltk.word_tokenize(sent)\n",
        "sent_tagged = nltk.pos_tag(sent_tokens)\n",
        "sent_ner = nltk.ne_chunk(sent_tagged)\n",
        "\n",
        "print(sent_ner)"
      ]
    },
    {
      "cell_type": "markdown",
      "metadata": {
        "id": "hsgZHcvZIa46"
      },
      "source": [
        "The NLTK book shows a list of commonly used named entity categories along with examples:\n",
        "\n",
        "NE Type | Examples\n",
        "--- | ---\n",
        "ORGANIZATION | Georgia-Pacific Corp., WHO\n",
        "PERSON | Eddy Bonte, President Obama\n",
        "LOCATION | Murray River, Mount Everest\n",
        "DATE | June, 2008-06-29\n",
        "TIME | two fifty a m, 1:30 p.m.\n",
        "MONEY | 175 million Canadian Dollars, GBP 10.40\n",
        "PERCENT | twenty pct, 18.75 %\n",
        "FACILITY | Washington Monument, Stonehenge\n",
        "GPE | South East Asia, Midlothian"
      ]
    },
    {
      "cell_type": "markdown",
      "metadata": {
        "id": "AUn6IJX0hOqA"
      },
      "source": [
        "# Assignment\n",
        "Answer the following questions and hand in your solution in Canvas before 8:30 AM, monday morning, October 23rd. Remember to save your file before uploading it."
      ]
    },
    {
      "cell_type": "markdown",
      "metadata": {
        "id": "UeUG6lCihPrC"
      },
      "source": [
        "## Question 1\n",
        "Use `nltk.ne_chunk(tagged_sentence)` to identify the named entities in the sentences below. Note that you have to tokenize and tag the sentences first. Print out and review the trees. Find at least one error and leave a description of it as a comment or in a text cell below."
      ]
    },
    {
      "cell_type": "code",
      "execution_count": 83,
      "metadata": {
        "id": "kimEISKwjmY2"
      },
      "outputs": [],
      "source": [
        "# On this day, October 16th (from https://en.wikipedia.org/wiki/October_16):\n",
        "sentences = [\n",
        "    \"1813 – The Sixth Coalition attacks Napoleon in the three-day Battle of Leipzig.\",\n",
        "    \"1923 – The Walt Disney Company is founded.\",\n",
        "    \"1968 – Yasunari Kawabata becomes the first Japanese person to be awarded the Nobel Prize in Literature.\",\n",
        "    \"1975 – Three-year-old Rahima Banu, from Bangladesh, is the last known case of naturally occurring smallpox.\",\n",
        "    \"2002 – The Bibliotheca Alexandrina opens in Egypt, commemorating the ancient library of Alexandria.\"\n",
        "]\n"
      ]
    },
    {
      "cell_type": "code",
      "execution_count": 84,
      "metadata": {
        "colab": {
          "base_uri": "https://localhost:8080/"
        },
        "id": "w_Q17RSI6OkJ",
        "outputId": "bab7df98-2aa2-4f91-ad5d-eda404c16ad3"
      },
      "outputs": [
        {
          "name": "stdout",
          "output_type": "stream",
          "text": [
            "SENTENCE: 1813 – The Sixth Coalition attacks Napoleon in the three-day Battle of Leipzig.\n",
            "(S\n",
            "  1813/CD\n",
            "  –/VBZ\n",
            "  The/DT\n",
            "  (ORGANIZATION Sixth/JJ Coalition/NNP)\n",
            "  attacks/NNS\n",
            "  Napoleon/NNP\n",
            "  in/IN\n",
            "  the/DT\n",
            "  three-day/JJ\n",
            "  Battle/NNP\n",
            "  of/IN\n",
            "  (GPE Leipzig/NNP)\n",
            "  ./.)\n",
            "\n",
            "SENTENCE: 1923 – The Walt Disney Company is founded.\n",
            "(S\n",
            "  1923/CD\n",
            "  –/VBZ\n",
            "  The/DT\n",
            "  (ORGANIZATION Walt/NNP Disney/NNP Company/NNP)\n",
            "  is/VBZ\n",
            "  founded/VBN\n",
            "  ./.)\n",
            "\n",
            "SENTENCE: 1968 – Yasunari Kawabata becomes the first Japanese person to be awarded the Nobel Prize in Literature.\n",
            "(S\n",
            "  1968/CD\n",
            "  –/NNP\n",
            "  Yasunari/NNP\n",
            "  Kawabata/NNP\n",
            "  becomes/VBZ\n",
            "  the/DT\n",
            "  first/JJ\n",
            "  (GPE Japanese/JJ)\n",
            "  person/NN\n",
            "  to/TO\n",
            "  be/VB\n",
            "  awarded/VBN\n",
            "  the/DT\n",
            "  (ORGANIZATION Nobel/NNP Prize/NNP)\n",
            "  in/IN\n",
            "  (GPE Literature/NNP)\n",
            "  ./.)\n",
            "\n",
            "SENTENCE: 1975 – Three-year-old Rahima Banu, from Bangladesh, is the last known case of naturally occurring smallpox.\n",
            "(S\n",
            "  1975/CD\n",
            "  –/JJ\n",
            "  Three-year-old/NNP\n",
            "  (PERSON Rahima/NNP Banu/NNP)\n",
            "  ,/,\n",
            "  from/IN\n",
            "  (GPE Bangladesh/NNP)\n",
            "  ,/,\n",
            "  is/VBZ\n",
            "  the/DT\n",
            "  last/JJ\n",
            "  known/JJ\n",
            "  case/NN\n",
            "  of/IN\n",
            "  naturally/RB\n",
            "  occurring/VBG\n",
            "  smallpox/NN\n",
            "  ./.)\n",
            "\n",
            "SENTENCE: 2002 – The Bibliotheca Alexandrina opens in Egypt, commemorating the ancient library of Alexandria.\n",
            "(S\n",
            "  2002/CD\n",
            "  –/VBZ\n",
            "  The/DT\n",
            "  (ORGANIZATION Bibliotheca/NNP Alexandrina/NNP)\n",
            "  opens/VBZ\n",
            "  in/IN\n",
            "  (GPE Egypt/NNP)\n",
            "  ,/,\n",
            "  commemorating/VBG\n",
            "  the/DT\n",
            "  ancient/JJ\n",
            "  library/NN\n",
            "  of/IN\n",
            "  (GPE Alexandria/NNP)\n",
            "  ./.)\n",
            "\n"
          ]
        }
      ],
      "source": [
        "# Your solution here\n",
        "for s in sentences:\n",
        "    print(f\"SENTENCE: {s}\")\n",
        "    sent_tokens = nltk.word_tokenize(s)\n",
        "    sent_tagged = nltk.pos_tag(sent_tokens)\n",
        "    sent_ner = nltk.ne_chunk(sent_tagged)\n",
        "\n",
        "    print(sent_ner)\n",
        "    print()"
      ]
    },
    {
      "cell_type": "markdown",
      "metadata": {
        "id": "6aD4zTff3btp"
      },
      "source": [
        "One error is \"Literature\" being classified as a Geo-Political Entity (GPE) in the third sentence"
      ]
    },
    {
      "cell_type": "markdown",
      "metadata": {
        "id": "n-fhUl__hQGf"
      },
      "source": [
        "## Question 2\n",
        "[SpaCy](https://spacy.io/) is another NLP library for Python. Try out its named entity recognition system on the sentences in Question 1. Does it repeat any of the mistakes that NLTK makes? Does it make any errors that NLTK doesn't? Leave your answer as a comment or in a text cell below."
      ]
    },
    {
      "cell_type": "code",
      "execution_count": 85,
      "metadata": {
        "colab": {
          "base_uri": "https://localhost:8080/",
          "height": 52
        },
        "id": "usQVjoi675de",
        "outputId": "f2e3071f-b3a6-4674-867c-8b3760d4c626"
      },
      "outputs": [
        {
          "data": {
            "text/html": [
              "<span class=\"tex2jax_ignore\"><div class=\"entities\" style=\"line-height: 2.5; direction: ltr\">The \n",
              "<mark class=\"entity\" style=\"background: #bfe1d9; padding: 0.45em 0.6em; margin: 0 0.25em; line-height: 1; border-radius: 0.35em;\">\n",
              "    2020\n",
              "    <span style=\"font-size: 0.8em; font-weight: bold; line-height: 1; border-radius: 0.35em; vertical-align: middle; margin-left: 0.5rem\">DATE</span>\n",
              "</mark>\n",
              " \n",
              "<mark class=\"entity\" style=\"background: #f0d0ff; padding: 0.45em 0.6em; margin: 0 0.25em; line-height: 1; border-radius: 0.35em;\">\n",
              "    Nobel Prize in Physics\n",
              "    <span style=\"font-size: 0.8em; font-weight: bold; line-height: 1; border-radius: 0.35em; vertical-align: middle; margin-left: 0.5rem\">WORK_OF_ART</span>\n",
              "</mark>\n",
              " is awarded to \n",
              "<mark class=\"entity\" style=\"background: #aa9cfc; padding: 0.45em 0.6em; margin: 0 0.25em; line-height: 1; border-radius: 0.35em;\">\n",
              "    Roger Penrose\n",
              "    <span style=\"font-size: 0.8em; font-weight: bold; line-height: 1; border-radius: 0.35em; vertical-align: middle; margin-left: 0.5rem\">PERSON</span>\n",
              "</mark>\n",
              ", \n",
              "<mark class=\"entity\" style=\"background: #7aecec; padding: 0.45em 0.6em; margin: 0 0.25em; line-height: 1; border-radius: 0.35em;\">\n",
              "    Reinhard\n",
              "Genzel\n",
              "    <span style=\"font-size: 0.8em; font-weight: bold; line-height: 1; border-radius: 0.35em; vertical-align: middle; margin-left: 0.5rem\">ORG</span>\n",
              "</mark>\n",
              " and \n",
              "<mark class=\"entity\" style=\"background: #aa9cfc; padding: 0.45em 0.6em; margin: 0 0.25em; line-height: 1; border-radius: 0.35em;\">\n",
              "    Andrea Ghez\n",
              "    <span style=\"font-size: 0.8em; font-weight: bold; line-height: 1; border-radius: 0.35em; vertical-align: middle; margin-left: 0.5rem\">PERSON</span>\n",
              "</mark>\n",
              " for their work on black holes.</div></span>"
            ],
            "text/plain": [
              "<IPython.core.display.HTML object>"
            ]
          },
          "metadata": {},
          "output_type": "display_data"
        }
      ],
      "source": [
        "import spacy\n",
        "from spacy import displacy\n",
        "import en_core_web_sm\n",
        "\n",
        "nlp = en_core_web_sm.load()\n",
        "\n",
        "# Example\n",
        "text = \"\"\"The 2020 Nobel Prize in Physics is awarded to Roger Penrose, Reinhard\n",
        "Genzel and Andrea Ghez for their work on black holes.\"\"\"\n",
        "\n",
        "doc = nlp(text)\n",
        "displacy.render(doc, style=\"ent\", jupyter=True)"
      ]
    },
    {
      "cell_type": "code",
      "execution_count": 86,
      "metadata": {
        "colab": {
          "base_uri": "https://localhost:8080/",
          "height": 192
        },
        "id": "Q4MOp81wydWL",
        "outputId": "77d877bf-01da-4861-8ef5-bcfca936c9d7"
      },
      "outputs": [
        {
          "data": {
            "text/html": [
              "<span class=\"tex2jax_ignore\"><div class=\"entities\" style=\"line-height: 2.5; direction: ltr\">\n",
              "<mark class=\"entity\" style=\"background: #bfe1d9; padding: 0.45em 0.6em; margin: 0 0.25em; line-height: 1; border-radius: 0.35em;\">\n",
              "    1813\n",
              "    <span style=\"font-size: 0.8em; font-weight: bold; line-height: 1; border-radius: 0.35em; vertical-align: middle; margin-left: 0.5rem\">DATE</span>\n",
              "</mark>\n",
              " – The \n",
              "<mark class=\"entity\" style=\"background: #e4e7d2; padding: 0.45em 0.6em; margin: 0 0.25em; line-height: 1; border-radius: 0.35em;\">\n",
              "    Sixth\n",
              "    <span style=\"font-size: 0.8em; font-weight: bold; line-height: 1; border-radius: 0.35em; vertical-align: middle; margin-left: 0.5rem\">ORDINAL</span>\n",
              "</mark>\n",
              " Coalition attacks \n",
              "<mark class=\"entity\" style=\"background: #7aecec; padding: 0.45em 0.6em; margin: 0 0.25em; line-height: 1; border-radius: 0.35em;\">\n",
              "    Napoleon\n",
              "    <span style=\"font-size: 0.8em; font-weight: bold; line-height: 1; border-radius: 0.35em; vertical-align: middle; margin-left: 0.5rem\">ORG</span>\n",
              "</mark>\n",
              " in the \n",
              "<mark class=\"entity\" style=\"background: #bfe1d9; padding: 0.45em 0.6em; margin: 0 0.25em; line-height: 1; border-radius: 0.35em;\">\n",
              "    three-day\n",
              "    <span style=\"font-size: 0.8em; font-weight: bold; line-height: 1; border-radius: 0.35em; vertical-align: middle; margin-left: 0.5rem\">DATE</span>\n",
              "</mark>\n",
              " \n",
              "<mark class=\"entity\" style=\"background: #feca74; padding: 0.45em 0.6em; margin: 0 0.25em; line-height: 1; border-radius: 0.35em;\">\n",
              "    Battle of Leipzig\n",
              "    <span style=\"font-size: 0.8em; font-weight: bold; line-height: 1; border-radius: 0.35em; vertical-align: middle; margin-left: 0.5rem\">GPE</span>\n",
              "</mark>\n",
              ".</div></span>"
            ],
            "text/plain": [
              "<IPython.core.display.HTML object>"
            ]
          },
          "metadata": {},
          "output_type": "display_data"
        },
        {
          "data": {
            "text/html": [
              "<span class=\"tex2jax_ignore\"><div class=\"entities\" style=\"line-height: 2.5; direction: ltr\">\n",
              "<mark class=\"entity\" style=\"background: #bfe1d9; padding: 0.45em 0.6em; margin: 0 0.25em; line-height: 1; border-radius: 0.35em;\">\n",
              "    1923\n",
              "    <span style=\"font-size: 0.8em; font-weight: bold; line-height: 1; border-radius: 0.35em; vertical-align: middle; margin-left: 0.5rem\">DATE</span>\n",
              "</mark>\n",
              " – \n",
              "<mark class=\"entity\" style=\"background: #7aecec; padding: 0.45em 0.6em; margin: 0 0.25em; line-height: 1; border-radius: 0.35em;\">\n",
              "    The Walt Disney Company\n",
              "    <span style=\"font-size: 0.8em; font-weight: bold; line-height: 1; border-radius: 0.35em; vertical-align: middle; margin-left: 0.5rem\">ORG</span>\n",
              "</mark>\n",
              " is founded.</div></span>"
            ],
            "text/plain": [
              "<IPython.core.display.HTML object>"
            ]
          },
          "metadata": {},
          "output_type": "display_data"
        },
        {
          "data": {
            "text/html": [
              "<span class=\"tex2jax_ignore\"><div class=\"entities\" style=\"line-height: 2.5; direction: ltr\">\n",
              "<mark class=\"entity\" style=\"background: #bfe1d9; padding: 0.45em 0.6em; margin: 0 0.25em; line-height: 1; border-radius: 0.35em;\">\n",
              "    1968\n",
              "    <span style=\"font-size: 0.8em; font-weight: bold; line-height: 1; border-radius: 0.35em; vertical-align: middle; margin-left: 0.5rem\">DATE</span>\n",
              "</mark>\n",
              " – \n",
              "<mark class=\"entity\" style=\"background: #aa9cfc; padding: 0.45em 0.6em; margin: 0 0.25em; line-height: 1; border-radius: 0.35em;\">\n",
              "    Yasunari Kawabata\n",
              "    <span style=\"font-size: 0.8em; font-weight: bold; line-height: 1; border-radius: 0.35em; vertical-align: middle; margin-left: 0.5rem\">PERSON</span>\n",
              "</mark>\n",
              " becomes the \n",
              "<mark class=\"entity\" style=\"background: #e4e7d2; padding: 0.45em 0.6em; margin: 0 0.25em; line-height: 1; border-radius: 0.35em;\">\n",
              "    first\n",
              "    <span style=\"font-size: 0.8em; font-weight: bold; line-height: 1; border-radius: 0.35em; vertical-align: middle; margin-left: 0.5rem\">ORDINAL</span>\n",
              "</mark>\n",
              " \n",
              "<mark class=\"entity\" style=\"background: #c887fb; padding: 0.45em 0.6em; margin: 0 0.25em; line-height: 1; border-radius: 0.35em;\">\n",
              "    Japanese\n",
              "    <span style=\"font-size: 0.8em; font-weight: bold; line-height: 1; border-radius: 0.35em; vertical-align: middle; margin-left: 0.5rem\">NORP</span>\n",
              "</mark>\n",
              " person to be awarded \n",
              "<mark class=\"entity\" style=\"background: #f0d0ff; padding: 0.45em 0.6em; margin: 0 0.25em; line-height: 1; border-radius: 0.35em;\">\n",
              "    the Nobel Prize in Literature\n",
              "    <span style=\"font-size: 0.8em; font-weight: bold; line-height: 1; border-radius: 0.35em; vertical-align: middle; margin-left: 0.5rem\">WORK_OF_ART</span>\n",
              "</mark>\n",
              ".</div></span>"
            ],
            "text/plain": [
              "<IPython.core.display.HTML object>"
            ]
          },
          "metadata": {},
          "output_type": "display_data"
        },
        {
          "data": {
            "text/html": [
              "<span class=\"tex2jax_ignore\"><div class=\"entities\" style=\"line-height: 2.5; direction: ltr\">\n",
              "<mark class=\"entity\" style=\"background: #bfe1d9; padding: 0.45em 0.6em; margin: 0 0.25em; line-height: 1; border-radius: 0.35em;\">\n",
              "    1975\n",
              "    <span style=\"font-size: 0.8em; font-weight: bold; line-height: 1; border-radius: 0.35em; vertical-align: middle; margin-left: 0.5rem\">DATE</span>\n",
              "</mark>\n",
              " – \n",
              "<mark class=\"entity\" style=\"background: #bfe1d9; padding: 0.45em 0.6em; margin: 0 0.25em; line-height: 1; border-radius: 0.35em;\">\n",
              "    Three-year-old\n",
              "    <span style=\"font-size: 0.8em; font-weight: bold; line-height: 1; border-radius: 0.35em; vertical-align: middle; margin-left: 0.5rem\">DATE</span>\n",
              "</mark>\n",
              " \n",
              "<mark class=\"entity\" style=\"background: #7aecec; padding: 0.45em 0.6em; margin: 0 0.25em; line-height: 1; border-radius: 0.35em;\">\n",
              "    Rahima Banu\n",
              "    <span style=\"font-size: 0.8em; font-weight: bold; line-height: 1; border-radius: 0.35em; vertical-align: middle; margin-left: 0.5rem\">ORG</span>\n",
              "</mark>\n",
              ", from \n",
              "<mark class=\"entity\" style=\"background: #feca74; padding: 0.45em 0.6em; margin: 0 0.25em; line-height: 1; border-radius: 0.35em;\">\n",
              "    Bangladesh\n",
              "    <span style=\"font-size: 0.8em; font-weight: bold; line-height: 1; border-radius: 0.35em; vertical-align: middle; margin-left: 0.5rem\">GPE</span>\n",
              "</mark>\n",
              ", is the last known case of naturally occurring smallpox.</div></span>"
            ],
            "text/plain": [
              "<IPython.core.display.HTML object>"
            ]
          },
          "metadata": {},
          "output_type": "display_data"
        },
        {
          "data": {
            "text/html": [
              "<span class=\"tex2jax_ignore\"><div class=\"entities\" style=\"line-height: 2.5; direction: ltr\">\n",
              "<mark class=\"entity\" style=\"background: #bfe1d9; padding: 0.45em 0.6em; margin: 0 0.25em; line-height: 1; border-radius: 0.35em;\">\n",
              "    2002\n",
              "    <span style=\"font-size: 0.8em; font-weight: bold; line-height: 1; border-radius: 0.35em; vertical-align: middle; margin-left: 0.5rem\">DATE</span>\n",
              "</mark>\n",
              " – The Bibliotheca Alexandrina opens in \n",
              "<mark class=\"entity\" style=\"background: #feca74; padding: 0.45em 0.6em; margin: 0 0.25em; line-height: 1; border-radius: 0.35em;\">\n",
              "    Egypt\n",
              "    <span style=\"font-size: 0.8em; font-weight: bold; line-height: 1; border-radius: 0.35em; vertical-align: middle; margin-left: 0.5rem\">GPE</span>\n",
              "</mark>\n",
              ", commemorating the ancient library of \n",
              "<mark class=\"entity\" style=\"background: #feca74; padding: 0.45em 0.6em; margin: 0 0.25em; line-height: 1; border-radius: 0.35em;\">\n",
              "    Alexandria\n",
              "    <span style=\"font-size: 0.8em; font-weight: bold; line-height: 1; border-radius: 0.35em; vertical-align: middle; margin-left: 0.5rem\">GPE</span>\n",
              "</mark>\n",
              ".</div></span>"
            ],
            "text/plain": [
              "<IPython.core.display.HTML object>"
            ]
          },
          "metadata": {},
          "output_type": "display_data"
        }
      ],
      "source": [
        "# Your solution here\n",
        "for s in sentences:\n",
        "    doc = nlp(s)\n",
        "    displacy.render(doc, style=\"ent\", jupyter=True)"
      ]
    },
    {
      "cell_type": "markdown",
      "metadata": {
        "id": "qKEAAi3p32Zk"
      },
      "source": [
        "While the \"Literature\" error is fixes, there are more mistakes:\n",
        "\n",
        "- \"Napoleon\" being classified as an ORG\n",
        "- separating \"Sixth\" from \"Coalition\"\n",
        "- Not classifying \"Bibliotheca Alexandrina\" as an ORG"
      ]
    },
    {
      "cell_type": "markdown",
      "metadata": {
        "id": "LNnqJn93hQ4T"
      },
      "source": [
        "## Question 3\n",
        "Use regular expressions to try to find instances of the following relationships in the `reuters` corpus:\n",
        "1. Organizations or companies and their subsidiaries, divisions or parts, e.g.:\n",
        "  * *Moss Rosenberg Verft, a subsidiary of Kvaerner Industrier A/S*\n",
        "  * *Merrill Lynch Capital Partners, a unit of Merrill Lynch*\n",
        "2. Executives and the companies they work for, e.g.:\n",
        "  * *Isao Nakamura, president of Higashi Nippon*\n",
        "  *  *Henry Rosenberg, chairman of Crown Central Petroleum*\n",
        "\n",
        "Your results don't have to be perfect! Getting a few relevant matches is enough, but try to keep irrelevant results to a minimum."
      ]
    },
    {
      "cell_type": "code",
      "execution_count": 87,
      "metadata": {
        "colab": {
          "base_uri": "https://localhost:8080/"
        },
        "id": "iJcbqv1mhQjH",
        "outputId": "92e84891-f5db-4fd2-97d9-ba06565fc95f"
      },
      "outputs": [
        {
          "name": "stdout",
          "output_type": "stream",
          "text": [
            " Douglas Corp said it acquired Frampton Computer Services \n",
            " Corp said it acquired Private Formulations Inc \n",
            " Forstmann Little said it acquired Sybron \n",
            " Southmark Corp said it acquired Berg Ventures \n",
            " Sico said it acquired Sterling \n",
            " First Financial Management Corp said it acquired Confidata \n",
            " Philadelphia Suburban Corp said it acquired Mentor Systems \n",
            " Medar Inc said it acquired Automatic Inspection Devices \n",
            " Stryker Corp said it acquired Hexcel Medical \n",
            " Inspeech Inc said it acquired Norma Bork Associates Inc \n",
            " Olin Hunt Specialty Products Inc said it acquired Image Technology Corp \n",
            " Enro Holding Corp said it acquired Enro Shirt Co \n",
            " Seal Inc said it acquired Ademco \n"
          ]
        }
      ],
      "source": [
        "import re\n",
        "from nltk.corpus import reuters\n",
        "nltk.download('reuters', quiet=True)\n",
        "\n",
        "# Create a copy of the text where there's only a single space between each word\n",
        "text = \" \".join(reuters.raw().split())\n",
        "\n",
        "# Example\n",
        "for m in re.findall(r'(?: [A-Z][a-z]+)+ said it acquired (?:[A-Z][a-z]+ )+', text):\n",
        "  print(m)\n",
        "\n",
        "# Note how normal groups and non-capturing groups work with re.findall():\n",
        "# a_string = \"a a b\"\n",
        "# re.findall(r'(a )+b', a_string): ['a '] (normal group)\n",
        "# re.findall(r'(?:a )+b', a_string): ['a a b'] (non-capturing group)"
      ]
    },
    {
      "cell_type": "code",
      "execution_count": 88,
      "metadata": {
        "id": "JLg0V1ZTE_Hi"
      },
      "outputs": [
        {
          "name": "stdout",
          "output_type": "stream",
          "text": [
            "\n",
            "1. Subsidiaries\n",
            " Spie Batignolles, a subsidiary of Schneider \n",
            " James Beam Distilling Co, a unit of American Brands Inc \n",
            " Magma Copper Co, a subsidiary of Newmont Mining \n",
            " Scallop Petroleum Corp, a subsidiary of Royal \n",
            " Allied Stores Corp, a subsidiary of Campeau \n",
            " Merrill Lynch Capital Partners, a unit of Merrill Lynch \n",
            " Reliance Financial Serivces Corp, a subsidiary of Reliance Group Holdings Inc \n",
            " Acquisition Corp, a subsidiary of Merrill Lynch Capital Partners \n",
            " Monsanto Chemical Company, a unit of Monsanto Co \n",
            " Gallaher Ltd, a subsidiary of American Brands Inc \n",
            " Algonquin Gas Transmission Co, a unit of Texas Eastern \n",
            " Kennecott Corp, a unit of British Petroleum Co \n",
            " Chase Home Mortgage Corp, a subsidiary of Chase Manhattan Corp \n",
            " Permian Corp, a subsidiary of National \n",
            " Inspiration Consolidated Copper Co, a subsidiary of Inspiration Resources \n",
            " Belcher Oil Co, a unit of Coastal Corp \n",
            " Alcan Aluminum Corp, a subsidiary of Alcan Aluminium \n",
            " Young Co, a subsidiary of Service Resources \n",
            " Ltd, a subsidiary of London \n",
            " The Chase Manhattan Bank, a unit of The Chase Manhattan Corp \n",
            " Taco Bell Corp, a unit of Pepsico \n",
            " Citgo Petroleum Corp, a subsidiary of Southland \n",
            " Resorts, a subsidiary of Allegis \n",
            " Moss Rosenberg Verft, a subsidiary of Kvaerner Industrier \n",
            " Aker Verdal, a unit of Aker Norcem \n",
            " Ford Motor Credit Co, a unit of Ford Motor Co \n",
            " Champlin Petroleum Co, a subsidiary of Union Pacific Corp \n",
            " Citgo Petroleum Corp, a unit of Southland Corp \n",
            " Scallop Petroleum Corp, a subsidiary of Royal \n",
            " Young Co, a subsidiary of Service Resources \n",
            " Esso Malaysia Bhd, a unit of Exxon Corp \n",
            " Magma Copper Co, a subsidiary of Newmont Mining \n",
            " Inspiration Consolidated Copper Co, a subsidiary of Inspiration Resources \n",
            " Shell, a unit of Royal \n",
            " Magma Copper Co, a subsidiary of Newmont Mining \n",
            " Sunter Acquisition Corp, a unit of First Boston \n",
            " Acquisitions Corp Inc, a unit of Emery Air Freight \n",
            " Magma Copper Co, a subsidiary of Newmont Mining \n",
            " Magma Copper Co, a subsidiary of Newmont Mining \n",
            " Consolidation Coal Co, a unit of Du Pont Co \n",
            "\n",
            "2. Executives\n",
            " Edward Brennan, chairman of Sears Roebuck \n",
            " Lichtblau, president of Petroleum Industry Research \n",
            " James Burke, president of Merrill Lynch Capital \n",
            " Ronald Perelman, head of Revlon Group Inc \n",
            " John Lichtblau, president of Petroleum Industry Ressearch \n",
            " Rainer Gut, chairman of Credit \n",
            " Zuheir Masoud, director of Jeddah Islamic \n",
            " Daniel Good, head of Shearson Lehman \n",
            " Henry Hirschberg, president of Simon \n",
            " Ronald Langley, president of Industrial \n",
            " Karl Otto Poehl, head of West \n",
            " Clifford Evans, president of Demico \n",
            " Nance, president of Tenneco Oil Exploration \n",
            " Brandman, chairman of Domino \n",
            " Henry Rosenberg, chairman of Crown Central Petroleum Corp \n",
            " Lindner, chairman of American Financial \n",
            " Raul Nicho, president of Money Market Services \n",
            " Daryl Elser, president of Steel \n",
            " Robert Fox, president of Fox Properties \n",
            " Henry Rosenberg, chairman of Crown Central Petroleum \n",
            " Arnold Safer, president of The Energy Futures Group \n",
            " Yao Liu, president of Chi Shun Hwa Steel \n",
            " Ronald Perelman, chairman of Revlon \n",
            " Karl Pale, head of Girozentrale \n",
            " Henry Rosenberg, chairman of Crown Central Petroleum \n",
            " Mario Gabelli, head of New York \n",
            " Carroll Brunthaver, president of Sparks \n",
            " Daniel Yergin, director of Cambridge Energy Research \n",
            " Sumner Redstone, president of National \n",
            " Lorenzo, chairman of Texas \n",
            " Charles Bundrant, president of Trident \n",
            " Cotton, president of Finalco Group \n",
            " Isao Nakamura, president of Higashi \n",
            " Lichtenberger, president of Chemicals \n",
            " Carl Lindner, chairman of American Financial \n",
            " Daniel Yergin, director of Cambridge Energy Research \n",
            " David Eisenberg, director of Sanford \n",
            " Vernes, president of French \n",
            " Krapels, president of Energy Security \n",
            " Kenneth Whipple, chairman of Ford \n"
          ]
        }
      ],
      "source": [
        "patSub = r'(?: [A-Z][a-z]+)+, a (?:subsidiary|unit|section) of (?:[A-Z][a-z]+ )+'\n",
        "patExec = r'(?: [A-Z][a-z]+)+, (?:president|chairman|director|head) of (?:[A-Z][a-z]+ )+'\n",
        "\n",
        "print(\"\\n1. Subsidiaries\")\n",
        "\n",
        "for m in re.findall(patSub, text)[:40]:\n",
        "  print(m)\n",
        "\n",
        "print(\"\\n2. Executives\")\n",
        "\n",
        "for m in re.findall(patExec, text)[:40]:\n",
        "  print(m)\n"
      ]
    },
    {
      "cell_type": "markdown",
      "metadata": {
        "id": "dZlHx_4FhRoZ"
      },
      "source": [
        "## Question 4\n",
        "It's much easier to extract relationships from text that is tagged with named entities. This can be accomplished using the `nltk.sem.extract_rels()` function, as described in [Chapter 7.6](https://www.nltk.org/book/ch07.html#relation-extraction) of the NLTK book. The function takes two named entity categories and a regular expression as arguments and returns all instances where the pattern occurs between the two categories (allowing for up to 10 tokens between them, by default).\n",
        "\n",
        "The `ieer` (Information Extraction and Entity Recognition) corpus contains named entity annotations, such as `PER`, `ORG` and `LOC`. Find some instances of the following relationships using `nltk.sem.extract_rels()`:\n",
        "1. Professors and the organizations they work for, e.g.:\n",
        "  * *Roger Goldman, a law professor at St. Louis University*\n",
        "2. Family members e.g.,:\n",
        "  * *Louis XIV and his brother, Philippe*\n",
        "  * *Mildred Rosenbaum and her husband Stanley*\n",
        "3. People and where are from, e.g.:\n",
        "  * *Anna Rechnio of Poland*"
      ]
    },
    {
      "cell_type": "code",
      "execution_count": 89,
      "metadata": {
        "id": "kHmcBIvhhRLs"
      },
      "outputs": [
        {
          "name": "stdout",
          "output_type": "stream",
          "text": [
            "[ORG: 'Omnicom'] 'moved to acquire' [ORG: 'GGT']\n",
            "[ORG: 'BDDP'] 'was acquired last year by' [ORG: 'GGT']\n",
            "[ORG: 'Safeway Stores'] 'acquired' [ORG: 'Mutual']\n"
          ]
        }
      ],
      "source": [
        "from nltk.corpus import ieer\n",
        "nltk.download('ieer', quiet=True)\n",
        "\n",
        "# Example\n",
        "pattern = re.compile(r'.*\\bacquired?\\b')\n",
        "\n",
        "for doc in nltk.corpus.ieer.parsed_docs():\n",
        "  for rel in nltk.sem.extract_rels('ORG', 'ORG', doc, 'ieer', pattern):\n",
        "    print(nltk.sem.rtuple(rel))"
      ]
    },
    {
      "cell_type": "code",
      "execution_count": 90,
      "metadata": {
        "id": "a_9-ByVN2bX_"
      },
      "outputs": [
        {
          "name": "stdout",
          "output_type": "stream",
          "text": [
            "[PER: 'Pepper Schwartz'] ', a sociology professor at the' [ORG: 'University of Washington']\n",
            "[PER: 'Roger Goldman'] ', a law professor at' [ORG: 'St. Louis University']\n"
          ]
        }
      ],
      "source": [
        "# Your solution here\n",
        "# 1. Professors and the organizations they work for\n",
        "pattern = re.compile(r'.*\\ba(?: [a-z]+)? (?:professor|teacher) at\\b')\n",
        "\n",
        "for doc in nltk.corpus.ieer.parsed_docs():\n",
        "  for rel in nltk.sem.extract_rels('PER', 'ORG', doc, 'ieer', pattern):\n",
        "    print(nltk.sem.rtuple(rel))"
      ]
    },
    {
      "cell_type": "code",
      "execution_count": 91,
      "metadata": {},
      "outputs": [
        {
          "name": "stdout",
          "output_type": "stream",
          "text": [
            "[PER: 'Jack N. Berkman'] ', an alumnus, and his wife,' [PER: 'Lillian R. Berkman']\n",
            "[PER: 'Louis XIV'] 'and his brother,' [PER: 'Philippe']\n",
            "[PER: 'Clinton'] 'and his wife,' [PER: 'Hillary Rodham Clinton']\n",
            "[PER: 'Mildred Rosenbaum'] 'and her husband' [PER: 'Stanley']\n"
          ]
        }
      ],
      "source": [
        "#2. Family members\n",
        "pattern = re.compile(r'.*\\b(?:his|her|their|your|my|our) (?:(?:moth|fath|broth|sist)er|sibiling|husband|wife|spouse|parent|child|children|kid)(?:s)?\\b')\n",
        "\n",
        "for doc in nltk.corpus.ieer.parsed_docs():\n",
        "  for rel in nltk.sem.extract_rels('PER', 'PER', doc, 'ieer', pattern):\n",
        "    print(nltk.sem.rtuple(rel))"
      ]
    }
  ],
  "metadata": {
    "colab": {
      "provenance": []
    },
    "kernelspec": {
      "display_name": "Python 3",
      "name": "python3"
    }
  },
  "nbformat": 4,
  "nbformat_minor": 0
}
