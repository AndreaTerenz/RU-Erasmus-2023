{
  "cells": [
    {
      "cell_type": "markdown",
      "metadata": {
        "id": "pajD7caf9pX7"
      },
      "source": [
        "# T-725 Natural Language Processing: Lab 2\n",
        "In today's lab, we will be working with text classification.\n",
        "\n",
        "To begin with, do the following:\n",
        "* Select `\"File\" > \"Save a copy in Drive\"` to create a local copy of this notebook that you can edit.\n",
        "* Select `\"Runtime\" > \"Run all\"` to run the code in this notebook."
      ]
    },
    {
      "cell_type": "markdown",
      "metadata": {
        "id": "RsSxs1XKhi_4"
      },
      "source": [
        "## List comprehensions in Python\n",
        "List comprehensions are a concise way of creating lists in Python, and take the form:\n",
        "\n",
        "```python\n",
        "[expression for item in iterable]\n",
        "```\n",
        "\n",
        "A list comprehension creates a new list by evaluating some expression for every item in a given iterable (such as a string, a list or a dictionary). Let's look at an example:"
      ]
    },
    {
      "cell_type": "code",
      "execution_count": 1,
      "metadata": {
        "id": "wxB1Ip77hzFL",
        "colab": {
          "base_uri": "https://localhost:8080/"
        },
        "outputId": "fbafdf47-4ded-4c35-be6b-b8d727faa8fb"
      },
      "outputs": [
        {
          "output_type": "stream",
          "name": "stdout",
          "text": [
            "['In', 'a', 'hole', 'in', 'the', 'ground', 'there', 'lived', 'a', 'hobbit.']\n",
            "[2, 1, 4, 2, 3, 6, 5, 5, 1, 7]\n",
            "[2, 1, 4, 2, 3, 6, 5, 5, 1, 7]\n"
          ]
        }
      ],
      "source": [
        "sentence = \"In a hole in the ground there lived a hobbit.\"\n",
        "words = sentence.split()\n",
        "print(words)\n",
        "\n",
        "# Example of a list comprehension\n",
        "word_lengths = [len(word) for word in words]\n",
        "print(word_lengths)\n",
        "\n",
        "# This is equal to\n",
        "word_lengths = []\n",
        "for word in words:\n",
        "  word_lengths.append(len(word))\n",
        "\n",
        "print(word_lengths)"
      ]
    },
    {
      "cell_type": "markdown",
      "metadata": {
        "id": "aWw6IRBgkQbc"
      },
      "source": [
        "You can also add a conditional statement to list comprehensions, so that the expression will only be evaluated for items that meet a certain criteria:"
      ]
    },
    {
      "cell_type": "code",
      "execution_count": 2,
      "metadata": {
        "id": "dSRG8kBdjZKA",
        "colab": {
          "base_uri": "https://localhost:8080/"
        },
        "outputId": "4bcb23d4-4b5e-4648-f2b5-d7ca052346ed"
      },
      "outputs": [
        {
          "output_type": "stream",
          "name": "stdout",
          "text": [
            "['ground', 'hobbit.']\n"
          ]
        }
      ],
      "source": [
        "e_words = [word for word in words if len(word) > 5]\n",
        "print(e_words)"
      ]
    },
    {
      "cell_type": "markdown",
      "metadata": {
        "id": "qtTTJDJ5qZML"
      },
      "source": [
        "Python also has set and dictionary comprehensions:"
      ]
    },
    {
      "cell_type": "code",
      "execution_count": 3,
      "metadata": {
        "id": "jniqHWPoqd8E",
        "colab": {
          "base_uri": "https://localhost:8080/"
        },
        "outputId": "279eb329-cfa0-4624-fdb4-0ec948869c7c"
      },
      "outputs": [
        {
          "output_type": "stream",
          "name": "stdout",
          "text": [
            "{'v', 'n', 'o', 't', 'd', 'b', 'e', 'u', 'a', 'l', ' ', 'g', 'r', 'h', 'i', '.'}\n",
            "6\n"
          ]
        }
      ],
      "source": [
        "lowercase_characters = {c.lower() for c in sentence}\n",
        "print(lowercase_characters)\n",
        "\n",
        "word_length = {word: len(word) for word in words}\n",
        "print(word_length['ground'])"
      ]
    },
    {
      "cell_type": "markdown",
      "metadata": {
        "id": "vY3Y_4kIbpaU"
      },
      "source": [
        "A nested list is a list within another list. You can iterate through nested lists in the following way:"
      ]
    },
    {
      "cell_type": "code",
      "execution_count": 4,
      "metadata": {
        "id": "6AW8w46PbuFM",
        "colab": {
          "base_uri": "https://localhost:8080/"
        },
        "outputId": "f57db8a3-df9f-4629-9c07-581d9e28c557"
      },
      "outputs": [
        {
          "output_type": "execute_result",
          "data": {
            "text/plain": [
              "['Iceland',\n",
              " 'Germany',\n",
              " 'Spain',\n",
              " 'Japan',\n",
              " 'China',\n",
              " 'South Korea',\n",
              " 'Nigeria',\n",
              " 'Algeria',\n",
              " 'Angola']"
            ]
          },
          "metadata": {},
          "execution_count": 4
        }
      ],
      "source": [
        "# A list of countries and their capitals within different continents\n",
        "continents = [\n",
        "    [('Iceland', 'Reykjavík'), ('Germany', 'Berlin'), ('Spain', 'Madrid')],  # Europe\n",
        "    [('Japan', 'Tokyo'), ('China', 'Beijing'), ('South Korea', 'Seoul')],  # Asia\n",
        "    [('Nigeria', 'Abuja'), ('Algeria', 'Algiers'), ('Angola', 'Luanda')]  # Africa\n",
        "]\n",
        "\n",
        "# Create a list of all the countries in the previous list\n",
        "[country for continent in continents for (country, _) in continent]"
      ]
    },
    {
      "cell_type": "markdown",
      "metadata": {
        "id": "mBrOT1vNcYZ0"
      },
      "source": [
        "## Sentiment analysis with NLTK\n",
        "[Chapter 6](https://www.nltk.org/book/ch06.html) of the NLTK book shows how the toolkit can be used to create document classifiers, including a sentiment analyzer. The NLTK includes the `movie_reviews` corpus, which contains 2,000 movie reviews. Half of the reviews have been labelled as **positive** and the other half as **negative**. Let's download it and take a look:"
      ]
    },
    {
      "cell_type": "code",
      "execution_count": 5,
      "metadata": {
        "id": "Xx01nR8x9qgq",
        "colab": {
          "base_uri": "https://localhost:8080/"
        },
        "outputId": "fda547fa-e3fa-4969-b2eb-d28ee1c8e8c0"
      },
      "outputs": [
        {
          "output_type": "stream",
          "name": "stdout",
          "text": [
            "Categories: ['neg', 'pos']\n"
          ]
        }
      ],
      "source": [
        "import nltk\n",
        "from nltk.corpus import movie_reviews\n",
        "nltk.download('punkt', quiet=True)\n",
        "\n",
        "nltk.download('movie_reviews', quiet=True)\n",
        "print(\"Categories:\", movie_reviews.categories())"
      ]
    },
    {
      "cell_type": "markdown",
      "metadata": {
        "id": "AppRxScjc9vx"
      },
      "source": [
        "As expected, there are two categories: `pos` for positive reviews and `neg` for negative reviews. For this particular corpus, each review is stored as a separate text file. To get a list of all the text files in the corpus, we can use `movie_reviews.fileids()`. We can also get a list of files for a specific category:"
      ]
    },
    {
      "cell_type": "code",
      "execution_count": 6,
      "metadata": {
        "id": "GI8EjJoo_1jz",
        "colab": {
          "base_uri": "https://localhost:8080/"
        },
        "outputId": "0123789a-1321-466f-c259-535257d5cbbf"
      },
      "outputs": [
        {
          "output_type": "stream",
          "name": "stdout",
          "text": [
            "positive reviews: 1000\n",
            "negative reviews: 1000\n",
            "['pos/cv000_29590.txt', 'pos/cv001_18431.txt', 'pos/cv002_15918.txt', 'pos/cv003_11664.txt', 'pos/cv004_11636.txt']\n",
            "['neg/cv000_29416.txt', 'neg/cv001_19502.txt', 'neg/cv002_17424.txt', 'neg/cv003_12683.txt', 'neg/cv004_12641.txt']\n"
          ]
        }
      ],
      "source": [
        "# IDs of all positive reviews\n",
        "pos_fileids = movie_reviews.fileids('pos')\n",
        "# IDs of all negative reviews\n",
        "neg_fileids = movie_reviews.fileids('neg')\n",
        "\n",
        "print(\"positive reviews:\", len(pos_fileids))\n",
        "print(\"negative reviews:\", len(neg_fileids))\n",
        "\n",
        "print(pos_fileids[:5])  # The first 5 positive reviews\n",
        "print(neg_fileids[:5])  # The first 5 negative reviews"
      ]
    },
    {
      "cell_type": "markdown",
      "metadata": {
        "id": "OQ_C9_80AEDo"
      },
      "source": [
        "We can get a list of all the tokens in the corpus with `movie_reviews.words()`. We can also specify a filename to get a single tokenized review:"
      ]
    },
    {
      "cell_type": "code",
      "execution_count": 7,
      "metadata": {
        "id": "vZ8mPNPGcnbN",
        "colab": {
          "base_uri": "https://localhost:8080/"
        },
        "outputId": "3c47f171-c33d-425c-8a90-720f420bea90"
      },
      "outputs": [
        {
          "output_type": "stream",
          "name": "stdout",
          "text": [
            "['films', 'adapted', 'from', 'comic', 'books', 'have', 'had', 'plenty', 'of', 'success']\n",
            "['plot', ':', 'two', 'teen', 'couples', 'go', 'to', 'a', 'church', 'party']\n"
          ]
        }
      ],
      "source": [
        "pos_reviews = [movie_reviews.words(fid) for fid in pos_fileids]\n",
        "neg_reviews = [movie_reviews.words(fid) for fid in neg_fileids]\n",
        "\n",
        "print(pos_reviews[0][:10])  # The first 10 tokens of the first positive review\n",
        "print(neg_reviews[0][:10])  # The first 10 tokens of the first negative review"
      ]
    },
    {
      "cell_type": "markdown",
      "metadata": {
        "id": "g04vosHorN6F"
      },
      "source": [
        "Some words, such as *brilliant* and *memorable*, are more strongly associated with positive reviews than negative ones. Similarly, *boring* and *unfunny* have a stronger association with negative reviews.\n",
        "\n",
        "Using the movie review corpus, we can train a classifier to predict whether a given review is positive or negative. The classifier extracts a set of *features* from every review, which are then used to make the classification. In this case, the features we use will be a dictionary that tells us whether each of the 2,000 most common words in the corpus is present within a review or not."
      ]
    },
    {
      "cell_type": "code",
      "execution_count": 8,
      "metadata": {
        "id": "UeixOJ-lu1fD"
      },
      "outputs": [],
      "source": [
        "# Create a set with 2,000 of the most frequent words in the movie review corpus\n",
        "movie_fd = nltk.FreqDist(movie_reviews.words())\n",
        "movie_words = {word for word, _ in movie_fd.most_common(2000)}\n",
        "\n",
        "# For a given review (in the form of a list or set of tokens), create a\n",
        "# dictionary which tells us which words are present and which are not.\n",
        "def get_review_features(review):\n",
        "  review_set = set(review)\n",
        "  return {word: (word in review_set) for word in movie_words}"
      ]
    },
    {
      "cell_type": "code",
      "execution_count": 9,
      "metadata": {
        "id": "6-r6kXma8-eB",
        "colab": {
          "base_uri": "https://localhost:8080/"
        },
        "outputId": "3cd58abc-68ef-4326-8e99-885d0dfc0119"
      },
      "outputs": [
        {
          "output_type": "stream",
          "name": "stdout",
          "text": [
            "'funny' is in the review: True\n",
            "'boring' is in the review: False\n"
          ]
        }
      ],
      "source": [
        "# Let's see how this works for the first positive review:\n",
        "example_features = get_review_features(pos_reviews[0])\n",
        "\n",
        "print(\"'funny' is in the review:\", example_features['funny'])\n",
        "print(\"'boring' is in the review:\", example_features['boring'])"
      ]
    },
    {
      "cell_type": "markdown",
      "metadata": {
        "id": "KK5rLkC7TCVC"
      },
      "source": [
        "Next, let's create a training set that we can use to train a Naive Bayesian classifier. The training set, in this case, is a list of tuples in the format `[(features, category), ...]`, where `features` is a dictionary from `get_review_features()` and `category` is either `pos` or `neg`, depending on whether the review is positive or negative. To get an idea of how well the classifier performs, we're going to reserve 10% of the reviews for testing. That means that we'll be training our classifier on 1800 examples and testing it on 200 examples."
      ]
    },
    {
      "cell_type": "code",
      "execution_count": 10,
      "metadata": {
        "id": "zwnYGSk9X2Bu"
      },
      "outputs": [],
      "source": [
        "import random\n",
        "random.seed(42)"
      ]
    },
    {
      "cell_type": "code",
      "execution_count": 11,
      "metadata": {
        "id": "MqhiywiwrhxW"
      },
      "outputs": [],
      "source": [
        "pos_examples = [(get_review_features(review), 'pos') for review in pos_reviews]\n",
        "neg_examples = [(get_review_features(review), 'neg') for review in neg_reviews]\n",
        "\n",
        "movie_training = pos_examples[:900] + neg_examples[:900]  # 1800 examples total\n",
        "movie_test = pos_examples[900:] + neg_examples[900:]  # 200 examples total"
      ]
    },
    {
      "cell_type": "markdown",
      "metadata": {
        "id": "Jfty2sigVuf3"
      },
      "source": [
        "Now we have everything we need to train our classifier."
      ]
    },
    {
      "cell_type": "code",
      "execution_count": 12,
      "metadata": {
        "id": "zAqq1Z72wLHl"
      },
      "outputs": [],
      "source": [
        "movie_classifier = nltk.NaiveBayesClassifier.train(movie_training)"
      ]
    },
    {
      "cell_type": "markdown",
      "metadata": {
        "id": "3inpPaRDV0_6"
      },
      "source": [
        "How well does it perform on the test set?"
      ]
    },
    {
      "cell_type": "code",
      "execution_count": 13,
      "metadata": {
        "id": "y7eJMkqdw7Eb",
        "colab": {
          "base_uri": "https://localhost:8080/"
        },
        "outputId": "6f7e87c0-8954-4f7c-823c-0cba487443c4"
      },
      "outputs": [
        {
          "output_type": "stream",
          "name": "stdout",
          "text": [
            "Accuracy: 81.50%\n"
          ]
        }
      ],
      "source": [
        "print(f\"Accuracy: {nltk.classify.accuracy(movie_classifier, movie_test)*100.:.2f}%\")"
      ]
    },
    {
      "cell_type": "markdown",
      "metadata": {
        "id": "ZxakIFH5WNH_"
      },
      "source": [
        "The classifier achieves an accuracy of 81.5%. Let's take a look at which words have the biggest weights:"
      ]
    },
    {
      "cell_type": "code",
      "execution_count": 14,
      "metadata": {
        "id": "ibMPC0QCxefo",
        "colab": {
          "base_uri": "https://localhost:8080/"
        },
        "outputId": "45753901-d6f6-4ae8-ec21-9813bf409ed9"
      },
      "outputs": [
        {
          "output_type": "stream",
          "name": "stdout",
          "text": [
            "Most Informative Features\n",
            "             outstanding = True              pos : neg    =     15.6 : 1.0\n",
            "                   mulan = True              pos : neg    =      9.0 : 1.0\n",
            "             wonderfully = True              pos : neg    =      7.1 : 1.0\n",
            "                  seagal = True              neg : pos    =      7.0 : 1.0\n",
            "                   damon = True              pos : neg    =      6.1 : 1.0\n",
            "                   flynt = True              pos : neg    =      5.7 : 1.0\n",
            "                  wasted = True              neg : pos    =      5.6 : 1.0\n",
            "                    lame = True              neg : pos    =      5.3 : 1.0\n",
            "                  poorly = True              neg : pos    =      5.2 : 1.0\n",
            "                   awful = True              neg : pos    =      4.9 : 1.0\n",
            "              ridiculous = True              neg : pos    =      4.8 : 1.0\n",
            "                    jedi = True              pos : neg    =      4.4 : 1.0\n",
            "                 unfunny = True              neg : pos    =      4.4 : 1.0\n",
            "                   waste = True              neg : pos    =      4.4 : 1.0\n",
            "               fantastic = True              pos : neg    =      4.4 : 1.0\n",
            "                   worst = True              neg : pos    =      4.2 : 1.0\n",
            "                    mess = True              neg : pos    =      4.2 : 1.0\n",
            "                  stupid = True              neg : pos    =      4.2 : 1.0\n",
            "                   bland = True              neg : pos    =      4.0 : 1.0\n",
            "                     era = True              pos : neg    =      4.0 : 1.0\n"
          ]
        }
      ],
      "source": [
        "movie_classifier.show_most_informative_features(20)"
      ]
    },
    {
      "cell_type": "markdown",
      "metadata": {
        "id": "FPSLZUxt9uMY"
      },
      "source": [
        "# Assignment\n",
        "Answer the following questions and hand in your solution in Canvas before 8:30 AM Monday September 11th. Remember to save your file before uploading it."
      ]
    },
    {
      "cell_type": "markdown",
      "metadata": {
        "id": "tQN5Qq9z97Yc"
      },
      "source": [
        "## Question 1\n",
        "The NLTK also includes a `subjectivity` corpus, which contains a collection of sentences that have either been categorized as **subjective** (emotional, expressing personal feelings and views)  or **objective** (more rational, factual). Some examples:\n",
        "\n",
        "* **Objective sentences**:\n",
        "  * uma thurman stars in quentin tarantino's fourth film venture , kill bill .  \n",
        "  * he lives in a motor garage with his six friends .\n",
        "  * the ensuing battle was one of the most savage in u . s . history .\n",
        "* **Subjective sentences**:\n",
        "  * seagal's strenuous attempt at a change in expression could very well clinch him this year's razzie .\n",
        "  * de niro cries . you'll cry for your money back .\n",
        "  * a heroic tale of persistence that is sure to win viewers' hearts .\n",
        "\n",
        "Unlike the movie review corpus, where every review is stored in separate file, here there is only one file for each category.\n",
        "\n",
        "Complete the following tasks:\n",
        "1. Import and download the `subjectivity` corpus.\n",
        "2. Find the names of each category.\n",
        "3. Using the category names, get the relative path of each file.\n",
        "4. Get a list of tokenized sentences for each category (using `subjectivity.sents(fileid)`)."
      ]
    },
    {
      "cell_type": "code",
      "execution_count": 15,
      "metadata": {
        "id": "zc1EM7TvnYaC",
        "colab": {
          "base_uri": "https://localhost:8080/"
        },
        "outputId": "9ff4737b-7ff1-4ae2-eb25-3b234136945c"
      },
      "outputs": [
        {
          "output_type": "stream",
          "name": "stdout",
          "text": [
            "Categories: ['obj', 'subj']\n"
          ]
        }
      ],
      "source": [
        "# Your solution here\n",
        "from nltk.corpus import subjectivity\n",
        "\n",
        "nltk.download('subjectivity', quiet=True)\n",
        "print(\"Categories:\", subjectivity.categories())"
      ]
    },
    {
      "cell_type": "code",
      "execution_count": 16,
      "metadata": {
        "colab": {
          "base_uri": "https://localhost:8080/"
        },
        "id": "eCPafUInX2Bv",
        "outputId": "730b53df-423a-4e0e-d1f0-fbb8223f0a37"
      },
      "outputs": [
        {
          "output_type": "stream",
          "name": "stdout",
          "text": [
            "['plot.tok.gt9.5000']\n",
            "['quote.tok.gt9.5000']\n",
            "[['the', 'movie', 'begins', 'in', 'the', 'past', 'where', 'a', 'young', 'boy', 'named', 'sam', 'attempts', 'to', 'save', 'celebi', 'from', 'a', 'hunter', '.'], ['emerging', 'from', 'the', 'human', 'psyche', 'and', 'showing', 'characteristics', 'of', 'abstract', 'expressionism', ',', 'minimalism', 'and', 'russian', 'constructivism', ',', 'graffiti', 'removal', 'has', 'secured', 'its', 'place', 'in', 'the', 'history', 'of', 'modern', 'art', 'while', 'being', 'created', 'by', 'artists', 'who', 'are', 'unconscious', 'of', 'their', 'artistic', 'achievements', '.'], ...]\n",
            "[['smart', 'and', 'alert', ',', 'thirteen', 'conversations', 'about', 'one', 'thing', 'is', 'a', 'small', 'gem', '.'], ['color', ',', 'musical', 'bounce', 'and', 'warm', 'seas', 'lapping', 'on', 'island', 'shores', '.', 'and', 'just', 'enough', 'science', 'to', 'send', 'you', 'home', 'thinking', '.'], ...]\n"
          ]
        }
      ],
      "source": [
        "# IDs of all positive reviews\n",
        "obj_file = subjectivity.fileids('obj')\n",
        "subj_file = subjectivity.fileids('subj')\n",
        "\n",
        "print(obj_file)\n",
        "print(subj_file)\n",
        "\n",
        "obj_sents = subjectivity.sents(obj_file)\n",
        "subj_sents = subjectivity.sents(subj_file)\n",
        "\n",
        "print(obj_sents)\n",
        "print(subj_sents)"
      ]
    },
    {
      "cell_type": "markdown",
      "metadata": {
        "id": "UaXJ-5Lr97_w"
      },
      "source": [
        "## Question 2\n",
        "Complete the following tasks:\n",
        "1. Create a set with the 2,000 most common words in the `subjectivity` corpus using `nltk.FreqDist()`.\n",
        "2. Create a function that takes a single, tokenized sentence as input (e.g., `['the', 'ensuing', 'battle', ...]`), and returns a dictionary of the 2,000 most frequent words and whether or not they are in the sentence (e.g., `{'battle': True, 'amusing': False, ...}`)."
      ]
    },
    {
      "cell_type": "code",
      "execution_count": 17,
      "metadata": {
        "id": "3Bx4kZSW98xq",
        "colab": {
          "base_uri": "https://localhost:8080/"
        },
        "outputId": "ee690bbb-bbe7-485c-dd1d-417ea98714ae"
      },
      "outputs": [
        {
          "output_type": "stream",
          "name": "stdout",
          "text": [
            "{'friendship', 'much', 'parts', 'horrible', 'knowing', 'six', 'sports', 'seven', 'free', 'changes', 'cause', 'home', 'ideas', 'assassin', 'cross', 'independent', 'against', 'enough', 'enterprise', 'tried', 'entire', 'mental', 'was', 'wealthy', 'epic', 'coming-of-age', 'very', 'old', 'spell', 'plenty', 'originality', 'affair', 'sounds', 'blue', 'faced', 'birthday', 'unfortunately', 'flick', 'truth', 'inspired', 'say', 'killed', 'screenplay', 'makes', 'shows', 'clear', 'hunt', 'year', 'water', 'upon', 'violence', 'bright', 'had', 'what', \"they're\", 'feels', 'age', 'caught', 'pulls', 'musical', 'to', 'levels', 'they', 'human', 'knows', 'up', 'character', 'fire', '2001', 'steven', 'bed', 'incredible', 'personality', 'due', '?', 'teenagers', 'chilling', 'force', 'lawyer', 'patricia', 'joy', 'guilt', 'again', 'pictures', 'opportunity', 'surprise', 'travels', 'share', 'kong', \"'the\", 'returns', 'too', 'filmmakers', 'best', 'arts', 'every', 'meanwhile', 'clever', 'going', 'drive', 'confront', 'white', 'plan', 'stay', 'mitchell', 'chicago', 'named', 'playing', 'begin', 'deeply', 'dying', 'face', 'job', 'wrong', 'born', 'lord', 'feeling', 'gang', 'predictable', 'little', 'looking', 'turn', 'him', 'arrives', 'compelling', 'cute', 'revolution', 'son', 'imagination', 'genuinely', 'kid', 'west', 'eric', 'finally', 'exciting', 'strike', 'wife', 'viewer', 'soul', 'block', 'pop', 'happiness', 'private', 'only', 'own', 'accidentally', 'television', 'blood', 'effective', 'intense', 'whose', 'comedy', 'me', 'classic', 'enjoy', 'hoping', 'bear', 'mike', 'middle', 'ever', 'michael', 'refuses', 'ted', \"hasn't\", 'front', 'idea', 'search', 'course', 'fantasy', 'states', 'universal', 'youth', 'o', 'army', 'intellectual', 'battle', 'point', 'media', 'lacks', 'its', 'grow', 'has', 'know', 'space', 'skills', 'complex', 'witness', 'plot', 'foreign', 'sustain', '2002', 'constructed', 'getting', 'scientist', 'apartment', 'hands', 'american', 'entirely', 'triangle', 'angry', 'circumstances', 'weeks', 'grows', 'simply', 'treasure', 'scary', 'arrival', 'live', 'running', 'corrupt', 'summer', 'london', 'million', 'drawn', 'level', 'many', 'talented', 'gone', 'allows', 'country', 'bruce', 'pain', 'tale', 'carry', 'band', 'dull', 'member', 'near', 'theater', 'energy', 'director', 'male', 'radio', 'we', 'join', 'spirited', 'forget', 'discovered', 'handsome', 'fame', 'visit', 'agency', 'day', 'sort', ':', 'fairly', 'entertaining', 'struggle', 'sentimental', 'producer', 'lucy', 'spiritual', 'happen', 'society', 'power', 'encounter', 'telling', 'if', 'sit', 'stand', 'familiar', 'gives', 'post', 'star', 'house', 'fun', 'through', 'crisis', 'act', 'border', 'wonder', 'previous', 'buy', 'end', 'extreme', '000', 'part', 'politics', 'competition', 'ultimately', 'already', 'generation', 'catch', 'realizes', 'reason', 'portrait', 'starting', 'product', 'porn', 'teams', 'asks', 'mess', 'inside', 'waiting', \"year's\", 'dialogue', 'mood', 'particularly', 'master', 'create', 'walk', 'planet', 'adam', 'vision', 'mitch', \"she's\", 'novel', 'sexy', 'being', 'passion', 'committed', 'comes', 'filmmaker', 'appeal', 'thoughtful', 'wish', 'there', 'emotional', 'deep', 'victim', 'follow', 'then', 'quick', 'decision', 'hand', 'talent', 'families', 'event', 'unfolds', 'wanted', 'tries', 'single', 'tragic', 'see', 'ready', 'humanity', 'seems', 'support', 'week', 'remarkable', 'alex', 'female', 'seem', 'manner', 'world', 'fears', 'for', 'creepy', 'lee', 'match', 'marry', 'visual', 'appealing', 'gentle', 'charming', 'kidnapped', 'thinking', 'skill', 'steve', 'basketball', 'eventually', 'beautifully', 'focus', 'board', 'willing', 'soap', 'lots', 'likely', 'turned', 'some', 'takes', 'que', 'actor', 'given', 'birth', 'intensity', 'thought-provoking', 'officer', 'lazy', 'directing', 'mostly', 'happening', 'trapped', 'source', 'two', 'modern', 'before', 'stops', 'piece', 'california', 'mysterious', 'spirit', 'ability', \"film's\", 'lost', 'feature', 'delivered', 'mountains', 'fight', 'impressive', 'wants', 'necessary', 'decent', 'so', 'made', 'spends', 'suspect', 'murder', 'special', 'period', 'brilliant', 'company', 'place', 'fact', 'luck', 'his', 'usual', 'decades', 'known', 'explores', 'indie', 'past', 'hospital', 'moving', 'assistant', 'fear', 'awkward', '10', 'out', 'detective', 'danger', 'plays', 'should', 'our', 'believe', 'attempts', 'experience', 'nature', 'possibly', 'fbi', 'under', 'approach', 'xxx', 'mix', 's', 'fly', 'living', 'local', 'leaving', 'growing', 'innocence', 'further', 'i', 'seek', 'trying', 'their', 'reading', 'strange', 'carlos', 'find', 'somehow', 'missed', 'humans', 'wit', 'show', 'hide', 'artistic', 'sullivan', 'man', 'thanks', 'today', 'despite', 'flawed', 'interested', 'henry', 'quirky', 'sharp', \"don't\", 'madness', 'continue', 'capture', 'class', 'became', \"what's\", 'changed', 'group', 'left', 'prison', 'guilty', 'provides', 'misses', 'betrayal', 'you', 'bigger', 'outside', 'form', 'unsettling', 'girlfriend', 'hard', 'mark', 'done', 'twisted', 'sea', 'zone', 'equally', 'figure', 'lucky', 'either', 'at', 'wait', 'un', 'succeeds', 'cold', 'run', 'directed', 'entertainment', 'may', 'screen', 'bus', 'brain', 'decides', 'third', 'taking', 'fails', 'convincing', 'half', 'immediately', 'crime', 'charm', 'huge', 'three', 'original', 'full', 'watch', 'standards', 'la', 'concerned', 'interviews', 'suffering', 'ii', 'drama', 'player', 'test', 'haunting', 'surprising', 'evil', 'perhaps', 'police', 'although', 'feelings', 'john', 'make', 'want', 'yes', 'twists', '*', 'large', 'simple', 'thought', 'story', 'guard', 'high', 'older', 'hot', 'edge', 'enemy', 'news', 'giving', 'slowly', 'heads', 'successful', 'death', 'pull', 'conservative', 'undercover', 'door', 'cultural', 'rare', 'however', 'try', 'really', 'her', 'recent', 'effect', 'yet', 'throws', 'france', 'escapes', 'miss', 'anthony', 'horror', 'situations', 'whatever', 'since', 'able', 'actors', 'differences', 'road', 'c', 'thousands', 'heaven', 'ship', 'genre', 'brothers', 'learn', 'phone', 'falls', 'kidnap', 'matter', 'increasingly', 'intriguing', 'meaning', 'ride', 'former', 'martial', 'rather', 'eccentric', 'pay', 'merely', 'games', 'nine', 'daily', 'lot', 'faces', 'gun', 'both', 'comedic', 'motion', 'suicide', 'owner', 'peculiar', 'parker', 'future', 'murdered', 'keeping', 'industry', 'spend', 'james', 'underworld', 'warm', 'killers', 'captured', 'chris', 'killing', 'stop', 'assigned', 'go', 'bland', 'dealing', 'about', 'but', 'moved', 'decide', 'angel', \"there's\", 'somewhat', 'spy', 'laugh', 'take', 'sense', 'fish', 'forces', 'none', 'irish', 'seen', 'material', 'hopes', 'bride', 'travel', 'step', 'robert', 'most', 'intentions', 'except', 'disney', 'even', 'women', 'shooting', 'russian', 'detail', 'films', 'intelligence', 'discovery', 'trial', 'imagine', 'themes', 'exploration', 'a', 'storytelling', 'york', 'paid', 'ugly', ',', 'typical', 'role', 'inventive', 'texas', 'security', 'something', 'target', 'looks', 'hip', 'chance', 'lose', 'jones', 'students', 'freedom', 'damage', 'another', 'train', 'public', 'excitement', 'meditation', 'dramatic', 'stuff', 'fascinating', \"city's\", 'evidence', 'determined', 'kind', 'child', 'inner', 'scene', 'add', 'ambitious', 'unique', 'tells', 'fairy', 'kids', 'king', 'remains', 'ago', 'stolen', 'until', 'lover', 'first', 'natural', 'report', 'j', 'actress', 'is', 'childhood', 'watching', 'true', 'hope', 'also', 'obsessed', 'dragon', 'hardly', 'footage', 'strength', 'guns', 'emotionally', 'facts', 'exactly', 'finds', 'bank', 'performances', '--', 'overcome', 'over', 'rachel', 'traditional', \"doesn't\", 'time', 'events', 'chemistry', 'success', 'sides', 'efforts', 'roles', 'stone', 'game', 'emerges', 'earnest', 'sitting', 'tone', 'camp', 'hell', '!', 'workers', 'viewers', 'deeper', \"couldn't\", 'places', 'mexican', 'moves', 'ways', 'terrific', 'whom', 'later', 'poignant', 'creating', 'save', 'central', 'straight', 'jason', 'appears', 'here', 'war', 'absorbing', 'disturbing', 'reality', 'trip', 'loses', 'angeles', 'now', 'carefully', 'itself', 'mediocre', 'were', 'island', 'open', 'cash', 'thriller', 'sam', 'felt', 'professor', 'fighting', 'sees', 'provide', 'ill', 'depressing', 'main', 'ground', 'formula', 'memory', 'always', 'must', 'los', 'poet', 'monsters', 'respect', 'filmmaking', 'laughs', 'the', 'falling', 'wild', 'easy', 'your', 'francis', 'expect', 'suffers', 'baby', 'touch', 'nothing', 'plain', 'weekend', 'completely', 'stories', 'obvious', 'sons', 'ring', 'gay', 'once', 'far', 'attitude', 'kills', 'strikes', 'teacher', 'ones', 'ahead', 'can', 'jordan', 'few', 'boy', 'gangster', 'or', 'tragedy', 'digital', 'interesting', 'field', 'mother', 'surprisingly', \"he's\", 'woods', 'reveals', 'times', 'service', 'various', 'these', 'imax', 'addition', 'constantly', 'grant', 'longer', 'partner', 'danny', 'sure', 'involved', 'perfect', 'supposed', 'dumb', 'paul', 'writer', 'doing', 'elusive', 'such', 'jewish', 'deliver', 'guy', 'based', 'need', 'missing', 'all', 'poetic', 'one', 'barely', 'filled', 'ends', 'fast', 'state', 'engaging', 'neighborhood', 'ended', 'america', 'features', 'jail', 'considered', 'certainly', 'united', 'de', 'spectacular', 'drugs', 'clearly', 'into', 'why', 'us', 'big', 'usually', 'unknown', 'town', 'kill', 'says', 'particular', 'mystery', 'pleasure', 'does', 'matt', 'dies', 'feel', 'shot', 'landscape', 'stage', 'nearly', 'blend', 'beauty', 'east', 'becomes', 'paranoia', 'eight', 'tribute', 'book', 'any', 'dog', 'effort', 'hidden', 'bit', 'during', 'talking', 'desperation', 'which', 'minute', 'leave', 'relationships', 'seeking', 'case', 'promising', 'stupid', 'weird', 'crew', 'protect', 'shoes', 'major', 'worst', 'written', 'streets', 'result', 'break', 'stars', 'south', 'drag', 'fine', 'handle', 'using', 'prove', 'working', 'thinks', 'still', 'historical', 'down', 'offer', 'average', 'got', 'released', 'truly', 'view', 'beautiful', \"you've\", 'perfectly', 'serious', 'maybe', '&#38', 'loss', 'second', 'allen', 'red', 'use', 'humor', 'bond', 'sent', 'better', 'father', 'seeing', 'those', 'era', 'riveting', 'minutes', 'dogs', 'van', 'popular', 'present', 'ice', 'expected', 'art', 'could', 'comedies', 'tape', 'after', 'within', 'graham', 'convinced', 'niro', 'school', 'melodramatic', 'along', 'sisters', 'vincent', 'becoming', 'poetry', 'fare', 'return', 'occasionally', 'black', \"that's\", 'city', 'german', 'daniel', 'outrageous', 'right', 'wonderful', 'quite', 'meet', 'history', 'final', 'witty', 'calls', 'close', '-', 'delightful', 'remake', 'are', 'date', 'southern', 'victims', 'simon', 'pretentious', 'other', 'anything', 'sound', 'cinema', 'interest', 'hours', 'works', 'who', 'machine', 'emotions', 'fate', 'men', 'yourself', 'indian', 'cia', \"aren't\", 't', 'loving', 'and', 'uses', 'helps', 'alien', 'discover', 'message', \"world's\", 'nicholas', 'disguise', 'moments', 'seriously', 'highly', 'billy', 'promise', 'investigation', 'delivers', 'above', 'somewhere', 'style', 'existence', 'camera', 'examination', 'mistake', 'hired', 'enjoyable', 'tom', 'otherwise', 'finding', 'parents', 'read', 'leaves', 'pick', 'lovely', 'smart', 'store', 'told', '5', 'list', 'images', 'cinematic', '(', 'woman', 'quickly', 'setting', 'david', 'bobby', 'no', 'crafted', 'building', 'solid', 'might', 'bored', 'think', 'dream', 'including', 'eyes', 'powers', 'late', 'thing', 'tales', 'let', 'holocaust', 'disaster', 'contemporary', ';', 'soldiers', 'sean', 'musicians', 'bad', 'information', 'hollywood', 'boring', 'hero', \"mother's\", 'rest', \"women's\", 'thin', 'quality', 'room', 'relationship', 'e', 'jackson', 'arrested', 'fall', 'heavy', 'odd', 'cop', 'vegas', 'stands', 'nightmare', 'martin', 'accept', 'move', 'task', 'wedding', 'peace', 'excellent', 'insight', 'brutally', 'homes', '90', 'mr', 'amount', 'came', 'gripping', 'combat', 'rock', 'notorious', 'code', 'driver', 'apparent', 'girls', 'execution', 'satisfying', 'restaurant', 'honest', 'guys', 'bears', \"won't\", 'passionate', 'saved', 'winning', 'short', 'cool', 'never', 'sometimes', 'forgettable', 'saw', 'mountain', 'held', 'brutal', 'fans', 'memories', 'closer', 'boys', 'conflict', 'sad', 'way', 'tim', 'u', 'husband', 'control', 'holy', 'dealer', 'monster', 'put', 'complete', 'length', 'affection', 'mexico', 'movies', 'dr', 'said', 'forever', \"father's\", 'fit', 'tell', 'race', 'production', 'intimate', 'scenes', 'whether', 'system', 'chinese', 'years', 'money', 'mom', 'lifestyle', 'from', 'people', 'leader', 'taste', 'nowhere', \"you're\", 'el', 'deal', 'couple', 'potential', \"you'll\", 'across', 'land', 'l', 'eve', 'ten', 'work', 'flicks', 'last', 'beyond', 'grace', 'murders', 'suspense', 'badly', 'solve', '.', \"they've\", 'look', 'funny', 'consequences', 'joke', 'gags', 'values', 'friends', \"man's\", \"can't\", 'romantic', 'win', 'forced', 'path', 'depth', 'losing', 'haunted', 'santa', 'normal', 'imagery', 'una', 'good', '11', 'definitely', 'lesson', 'picture', 'do', 'different', 'voice', 'everyone', 'accessible', 'general', 'surface', 'writer-director', 'las', 'utterly', 'fathers', 'onto', 'spring', 'exercise', 'presents', \"who's\", 'flaws', 'concept', 'mission', 'least', 'often', 'escape', 'physical', 'freddy', 'sex', 'food', 'become', 'talk', 'script', 'goofy', 'team', 'acted', 'terms', 'dinner', 'direction', 'following', 'spent', 'enters', 'unexpected', 'top', 'internet', 'faith', 'movie', 'trouble', 'creative', 'she', 'viewing', 'brings', 'beloved', 'balance', 'suspects', 'blind', 'literally', 'attorney', 'actually', \"we've\", 'animal', 'memorable', 'common', 'journalist', 'courage', 'everyday', 'slice', 'destiny', 'executive', 'gold', 'real', 'together', 'situation', 'chaotic', 'hilarious', 'rise', 'cast', 'daughter', 'romance', 'friend', 'loves', 'delicate', 'sequel', 'thomas', 'runs', 'indeed', 'consider', 'capable', 'joe', 'site', 'night', 'key', 'surreal', 'genuine', 'letter', 'dreams', 'quiet', 'started', 'latest', 'k', 'teen', 'understand', 'months', 'responsible', 'goes', 'them', 'without', 'smoking', 'unusual', 'survive', 'advice', 'created', 'making', 'x', 'williams', 'fat', 'intelligent', 'drug', 'took', 'audiences', 'family', 'themselves', 'boyfriend', 'keith', 'frank', 'unable', 'trust', 'hold', 'hour', 'rarely', 'fashion', 'process', 'anna', 'raised', 'max', \"i'm\", 'rural', 'important', 'jokes', 'dangerous', 'next', 'bill', 'creates', 'roger', 'on', 'showing', 'example', 'signs', 'in', 'dark', 'editing', 'impossible', 'rich', 'taken', 'psychological', 'children', 'b', 'arrive', 'obsession', 'give', 'mind', 'animation', 'lines', 'almost', 'cut', 'mob', 'himself', 'count', 'experiences', 'learns', 'attention', 'be', 'study', 'remember', 'subject', 'rescue', 'tension', 'teenage', 'sends', 'like', 'small', 'tedious', 'ancient', \"it's\", 'eye', 'shop', 'realize', 'call', 'essentially', 'order', 'by', 'happens', 'community', 'desperately', 'greatest', 'forms', 'an', 'set', 'question', 'tv', 'manages', 'sets', 'as', 'computer', 'probably', 'adults', 'jr', 'led', 'political', 'been', 'means', 'die', 'anyone', 'noble', 'lies', 'it', 'happy', 'throughout', 'international', 'hong', 'stuck', 'development', 'bitter', 'whole', 'coming', 'flat', 'choose', 'with', 'struggling', 'sister', 'silly', 'document', 'seemingly', 'struggles', 'toward', 'complicated', 'towards', 'extremely', 'gorgeous', 'easily', 'queen', 'while', 'moment', 'revealing', 'finish', 'follows', \"didn't\", 'things', 'bizarre', 'party', 'kyle', 'extraordinary', 'narrative', 'abandoned', 'ending', 'shelter', 'urban', 'y', 'herself', 'writing', 'revolves', 'captures', 'instead', 'starts', 'modest', 'slow', 'jedi', 'subtle', 'desperate', 'younger', 'performers', 'Â\\x96', 'exotic', 'worth', 'subjects', 'lovers', 'serial', 'mary', 'jenny', 'deserves', 'shallow', 'painful', 'professional', 'score', 'less', 'law', '30', 'legacy', 'facing', 'village', 'dad', 'tony', 'remote', 'routine', 'used', 'great', 'national', 'start', 'adventure', 'park', 'passes', 'engrossing', 'fan', 'of', 'government', \"'\", 'scott', 'overall', 'president', 'purpose', 'survival', 'offers', 'difficult', 'when', 'series', 'soundtrack', 'england', 'moral', 'franchise', 'underground', 'same', 'care', 'documentary', 'culture', 'harry', 'ben', 'desert', \"isn't\", 'george', 'side', '\"', 'thrown', 'problems', 'french', 'girl', 'turns', 'where', 'jack', 'proves', 'troubled', 'lets', 'lead', 'studio', 'dance', 'earlier', 'enter', 'famous', 'avoid', 'provocative', 'film', 'record', 'sweet', 'dead', \"you'd\", 'love', 'understanding', 'chan', 'life', 'investigate', 'century', 'lonely', 'sight', 'rob', 'music', 'deadly', 'played', 'someone', 'that', 'off', 'light', 'beneath', 'english', 'needs', 'rules', 'thoroughly', 'others', 'just', 'charlie', 'christian', 'promises', 'street', 'magic', 'title', 'violent', 'adult', 'back', 'business', 'god', 'answers', 'lives', 'pretty', 'name', 'problem', 'each', 'meets', 'tough', 'nonetheless', 'nor', 'unlike', 'matters', 'plans', 'keeps', 'brother', 'not', 'happened', 'more', 'actions', 'among', 'come', 'larger', 'journey', 'jim', 'mafia', 'terrible', 'washington', 'air', 'loved', 'damned', 'leads', 'alive', 'talks', 'track', 'trail', '2', 'court', \"movie's\", 'hits', 'rap', 'alone', 'stunning', 'ordinary', 'pure', 'characters', 'sick', 'days', 'research', 'north', 'line', 'hair', 'slightly', 'reach', 'japanese', 'manhattan', 'heart', 'justice', 'brought', 'biggest', ')', 'acts', 'chief', 'secrets', 'married', 'everything', 'amazing', 'singer', 'ms', 'how', 'neither', 'gradually', 'realistic', 'kung', 'opera', 'version', 'johnny', 'terribly', 'keep', 'premise', 'episode', 'prevent', 'away', 'issues', 'colorful', 'miller', 'have', 'words', 'artist', 'skin', 'bring', 'fully', 'old-fashioned', 'captain', 'because', 'seeks', 'four', 'lena', 'prostitute', 'shame', 'acting', 'waste', 'audience', 'this', 'behind', 'legendary', \"woman's\", 'twin', 'met', 'discovers', 'boss', 'robbery', 'especially', 'broken', 'san', 'secret', 'video', 'word', 'sincere', 'holds', 'else', 'tired', 'would', 'legend', 'surprises', 'career', 'accident', 'challenges', 'certain', 'believes', 'wall', 'pieces', 'died', \"family's\", 'fiction', 'members', 'continues', 'pursuit', 'searching', 'cell', 'jane', 'visually', 'attempt', 'grand', 'farm', 'hunter', 'apart', 'religious', 'impact', 'identity', 'account', 'decided', 'though', 'pair', 'crazy', 'color', 'innocent', 'young', 'several', 'satire', 'slick', 'claire', 'questions', 'strangely', 'offering', 'powerful', 'equivalent', 'than', 'social', 'personal', 'comic', 'doctor', 'price', 'william', 'eddie', 'he', 'fellow', 'minds', 'contrived', 'buried', 'manager', 'chase', 'ghost', 'puts', 'bar', 'between', 'india', 'appear', 'agent', 'christmas', 'pregnant', 'demands', 'cousin', 'fresh', 'criminal', 'debut', 'lack', 'body', 'car', 'pace', 'gets', 'unlikely', 'worthy', 'vampire', 'play', 'green', 'encounters', 'sexual', 'terrifying', 'compassion', 'threat', 'revenge', 'melodrama', 'escaped', 'person', 'help', 'roxie', 'five', 'ensemble', 'attack', 'ray', 'performance', 'amusing', 'earth', 'beginning', 'college', 'poor', 'my', 'early', 'military', 'peter', 'dry', 'center', 'begins', 'destroy', 'type', 'cannot', 'change', 'perspective', 'called', 'passed', 'marriage', 'liked', 'student', 'aftermath', 'points', 'sign', 'nuclear', 'possible', 'involving', 'british', 'desire', 'nick', 'club', 'strong', 'new', 'project', 'department', 'operation', 'around', 'number', 'challenge', 'con', 'did', 'get', 'leading', 'interview', 'build', 'hit', 'having', 'spectacle', 'value', 'morning', 'sensitive', 'veteran', 'office', 'murphy', 'creature', 'soon', 'steal', 'found', 'grief', 'ultimate', 'adaptation', 'worse', 'touching', 'oscar', '20', 'will', 'crush', 'reporter', 'gift', 'doubt', 'quest', 'twist', 'sequences', 'roots', 'thus', 'killer', 'surrounding', 'nice', 'results', 'adventures', 'long', 'turning', 'well', 'action', 'suddenly', 'effects', 'elements', 'breaks', 'head'}\n"
          ]
        }
      ],
      "source": [
        "# Your solution here\n",
        "subjectivity_fd = nltk.FreqDist(subjectivity.words())\n",
        "subject_words = {word for word, _ in subjectivity_fd.most_common(2000)}\n",
        "\n",
        "print(subject_words)"
      ]
    },
    {
      "cell_type": "code",
      "execution_count": 18,
      "metadata": {
        "id": "tquSDTtCX2Bv"
      },
      "outputs": [],
      "source": [
        "def get_features(tokens, most_common_tokens):\n",
        "  tokens_set = set(tokens)\n",
        "  return {word: (word in tokens_set) for word in most_common_tokens}"
      ]
    },
    {
      "cell_type": "markdown",
      "metadata": {
        "id": "Vrxhu0iB99YN"
      },
      "source": [
        "## Question 3\n",
        "Complete the following tasks:\n",
        "1. Create a training set with 9,000 sentences (4,500 of each category)\n",
        "2. Create a test set with 1,000 sentences (500 of each category)"
      ]
    },
    {
      "cell_type": "code",
      "execution_count": 19,
      "metadata": {
        "id": "08xWq_S899xK"
      },
      "outputs": [],
      "source": [
        "# Your solution here\n",
        "import random\n",
        "random.seed(42)\n",
        "\n",
        "def split_train_test(examples, train_fraction=0.8, train_count=-1):\n",
        "    # Shuffle the examples\n",
        "    random.shuffle(examples)\n",
        "\n",
        "    if train_count < 0:\n",
        "        train_count = int(len(examples) * train_fraction)\n",
        "    else:\n",
        "        assert (train_count < len(examples)), f\"Tried to extract too many training samples! ({train_count} out of {len(examples)})\"\n",
        "\n",
        "    # Split the examples\n",
        "    train_set = examples[:train_count]\n",
        "    test_set = examples[train_count:]\n",
        "\n",
        "    return train_set, test_set"
      ]
    },
    {
      "cell_type": "code",
      "execution_count": 20,
      "metadata": {
        "colab": {
          "base_uri": "https://localhost:8080/"
        },
        "id": "5Bj-Xvw_X2Bv",
        "outputId": "e5290205-0f5d-4f22-8e19-b236c2fbbc96"
      },
      "outputs": [
        {
          "output_type": "stream",
          "name": "stdout",
          "text": [
            "9000\n",
            "1000\n"
          ]
        }
      ],
      "source": [
        "obj_features = [(get_features(sent, subject_words), \"obj\") for sent in obj_sents]\n",
        "subj_features = [(get_features(sent, subject_words), \"subj\") for sent in subj_sents]\n",
        "\n",
        "train, test = split_train_test(obj_features + subj_features, train_fraction=0.9)\n",
        "\n",
        "print(len(train))\n",
        "print(len(test))"
      ]
    },
    {
      "cell_type": "markdown",
      "metadata": {
        "id": "HToPuGzX9-Cl"
      },
      "source": [
        "## Question 4\n",
        "Complete the following tasks:\n",
        "1. Train a Naive Bayes classifier using the training set from the previous question.\n",
        "2. Evaluate the classifier on the test set. How accurate is it?\n",
        "3. Find the 20 most informative features."
      ]
    },
    {
      "cell_type": "code",
      "execution_count": 21,
      "metadata": {
        "id": "iHrN1tvKZa4e"
      },
      "outputs": [],
      "source": [
        "# Your solution here\n",
        "classif_nb = nltk.NaiveBayesClassifier\n",
        "classif_nb = classif_nb.train(train)"
      ]
    },
    {
      "cell_type": "code",
      "execution_count": 22,
      "metadata": {
        "colab": {
          "base_uri": "https://localhost:8080/"
        },
        "id": "q6LUlhdMX2Bw",
        "outputId": "09a4bbab-9c2b-4e03-b06b-96cd0253c108"
      },
      "outputs": [
        {
          "output_type": "stream",
          "name": "stdout",
          "text": [
            "Accuracy: 89.40%\n"
          ]
        }
      ],
      "source": [
        "print(f\"Accuracy: {nltk.classify.accuracy(classif_nb, test)*100.:.2f}%\")"
      ]
    },
    {
      "cell_type": "code",
      "execution_count": 23,
      "metadata": {
        "colab": {
          "base_uri": "https://localhost:8080/"
        },
        "id": "OC2BkmuXX2Bw",
        "outputId": "464e7000-9765-4050-a225-c43e223639e7"
      },
      "outputs": [
        {
          "output_type": "stream",
          "name": "stdout",
          "text": [
            "Most Informative Features\n",
            "                      -- = True             subj : obj    =     88.8 : 1.0\n",
            "             fascinating = True             subj : obj    =     29.6 : 1.0\n",
            "                discover = True              obj : subj   =     28.4 : 1.0\n",
            "                    fans = True             subj : obj    =     26.9 : 1.0\n",
            "                    town = True              obj : subj   =     26.7 : 1.0\n",
            "            entertaining = True             subj : obj    =     26.1 : 1.0\n",
            "                  film's = True             subj : obj    =     25.7 : 1.0\n",
            "             interesting = True             subj : obj    =     25.7 : 1.0\n",
            "              girlfriend = True              obj : subj   =     24.4 : 1.0\n",
            "                    plan = True              obj : subj   =     21.9 : 1.0\n",
            "               detective = True              obj : subj   =     21.7 : 1.0\n",
            "                daughter = True              obj : subj   =     21.1 : 1.0\n",
            "                 mission = True              obj : subj   =     21.1 : 1.0\n",
            "                 amusing = True             subj : obj    =     20.9 : 1.0\n",
            "                engaging = True             subj : obj    =     20.9 : 1.0\n",
            "                 married = True              obj : subj   =     20.4 : 1.0\n",
            "                   plans = True              obj : subj   =     20.4 : 1.0\n",
            "                 decides = True              obj : subj   =     19.9 : 1.0\n",
            "                      dr = True              obj : subj   =     19.7 : 1.0\n",
            "                    dull = True             subj : obj    =     18.9 : 1.0\n"
          ]
        }
      ],
      "source": [
        "classif_nb.show_most_informative_features(20)"
      ]
    },
    {
      "cell_type": "markdown",
      "metadata": {
        "id": "f-J9BEEQFrbo"
      },
      "source": [
        "# Question 5\n",
        "Dialog acts are sort of the type of *action* performed by the speaker. In the instant messaging corpus dataset 'NPS', each utterance is labeled with one of 15 dialogue act types, such as **Statement**, **Emotion**, **ynQuestion**, **Continuer**, etc.\n",
        "\n",
        "Your task is to classify text from the NPS corpus into two dialog acts: **whQuestion** or **Emotion**.\n",
        "\n",
        "Start by downloading the NPS corpus and getting all posts from the corpus:"
      ]
    },
    {
      "cell_type": "code",
      "execution_count": 24,
      "metadata": {
        "id": "Qtc_pG1qJZgh"
      },
      "outputs": [],
      "source": [
        "from nltk.corpus import nps_chat\n",
        "\n",
        "nltk.download('nps_chat', quiet=True)\n",
        "posts_raw = nps_chat.xml_posts()"
      ]
    },
    {
      "cell_type": "markdown",
      "metadata": {
        "id": "p0wQn19UqfKV"
      },
      "source": [
        "Create a list that only includes posts of class **Emotion** and **whQuestion**. You can access the class of a post by calling `post.get(\"class\")`."
      ]
    },
    {
      "cell_type": "code",
      "execution_count": 25,
      "metadata": {
        "id": "H316uXLTrRUA",
        "colab": {
          "base_uri": "https://localhost:8080/"
        },
        "outputId": "6ba2602a-00cf-412b-faa7-534444e965f5"
      },
      "outputs": [
        {
          "output_type": "stream",
          "name": "stdout",
          "text": [
            "Total count: 10567\n",
            "Selected posts: 1639\n"
          ]
        }
      ],
      "source": [
        "# Your solution here\n",
        "print(f\"Total count: {len(posts_raw)}\")\n",
        "\n",
        "posts = [p for p in posts_raw if p.get('class') in ['Emotion', 'whQuestion']]\n",
        "\n",
        "print(f\"Selected posts: {len(posts)}\")"
      ]
    },
    {
      "cell_type": "code",
      "execution_count": 26,
      "metadata": {
        "id": "cXhLtPzRX2Bx"
      },
      "outputs": [],
      "source": [
        "import re\n",
        "\n",
        "def filter_post_text(post):\n",
        "    tmp = re.sub(r\"[\\(\\)]{2,}\", \"\", post.text)\n",
        "    tmp = re.sub(r\"(\\d\\d\\-){2,3}\", \"\", tmp)\n",
        "\n",
        "    return tmp #post.text.replace(\"(\", \"\")"
      ]
    },
    {
      "cell_type": "markdown",
      "metadata": {
        "id": "t1K-jkXCzv4T"
      },
      "source": [
        "Randomize the posts and create a training set and a test set, where the first 1300 **Emotion + whQuestion** posts are used for training and the rest for testing."
      ]
    },
    {
      "cell_type": "code",
      "execution_count": 27,
      "metadata": {
        "id": "1SQdx2rY0LG6"
      },
      "outputs": [],
      "source": [
        "# Your solution here\n",
        "posts_em = [filter_post_text(p).split(\" \") for p in posts if p.get('class') == 'Emotion']\n",
        "posts_whq = [filter_post_text(p).split(\" \") for p in posts if p.get('class') == 'whQuestion']\n",
        "\n",
        "posts_train, posts_test = split_train_test(posts_em + posts_whq, train_count=1300)"
      ]
    },
    {
      "cell_type": "markdown",
      "metadata": {
        "id": "38Klc5bHxDvW"
      },
      "source": [
        "Create a list of the 200 most frequent tokens in the training set. You can access the text of a `post` object by calling `post.text`. Remember that the **split** function will use whitespace to tokenize a string: `some_string.split()`"
      ]
    },
    {
      "cell_type": "code",
      "execution_count": 28,
      "metadata": {
        "id": "cmBZL8wxso-q",
        "colab": {
          "base_uri": "https://localhost:8080/"
        },
        "outputId": "769e1a53-a7a2-4234-be53-4b170fbe3d57"
      },
      "outputs": [
        {
          "output_type": "stream",
          "name": "stdout",
          "text": [
            "{'', 'much', 'quiet.', 'laffs', 'forever...the', 'Lol', 'home', 'omggg', 'friendly', 'adultsUser29!!!', 'holdin', '20sUser121!!!', 'was', 'Lmao.', 'old', 'ooer', 'blue', 'ass', 'birthday', 'say', '30sUser11,', '20sUser87', '40sUser6', 'stranger', 'opps', 'jesus', 'coupons', 'eeewwwwww', 'Marlaya<333333333!!!!!', 'what', '20sUser83', 'to', ':tongue:', 'battery', 'wut', 'adultsUser35..WTF', 'they', 'adultsUser41?', 'up', 'mmmm', '?', 'o.O', 'joy', 'wee', 'pink,', 'chick', '...', 'pervs', 'island?', 'tonight?', 'too', 'going', 'white', 'wha?', '40sUser25', 'adultsUser53?', 'U', 'to?', 'DAMN', 'job', 'yikesssss', 'wrong', 'o0', 'lord', 'hahahah', 'awhile', 'That', 'feeling', 'him', 'honey.....how', '\"pussy', 'way,', 'Whereabouts', 'kold....lol', 'DOES', '40sUser21', 'adultsUser0?', 'Lol.', 'rotflmao', 'dman', 'happen?', 'pop', '40sUser7..i', ':|', 'burns', \"you....I'm\", 'yall', 'whose', 'me', 'adultsUser19?', 'mike', 'middle', '20sUser6?', 'song', 'Ships?', '40sUser9', 'pissed', ':o', 'mwahs', 'oooOOOOoooo', ']]]]]]]]]]]]]]]]]]]]]', 'doesnt', 'crap!', 'll', '<3', 'ohwa.', 'o', '20sUser139', 'WANNA', 'point', 'Why?', 'its', '40sUser3', 'has', 'know', 'How', 'whynot!', 'adultsUser58', 'getting', 'adultsUser60', 'aww.', 'for?', 'room?', '20sUser65!!!!', 'laughing', 'live', 'hooooo', 'disocvered', 'WEEEEEEEEEEEEEEEEEE!!!!!!!!!!!!!!!!!!!!!!!', 'many', '40sUser48..........how', 'dunno', 'bored?', 'chcken', 'kent?', 'yawn...', 'saying', 'band', 'near', '20sUser121', 'adultsUser32', 'we', 'wow..', 'sex?', 'day', ':blush:', 'wheres', 'wth', 'happen', 'kennedy??', 'if', 'adultsUser42', 'Like?', 'adultsUser129?', 'lmaooo', '40sUser52,', 'who?', '40sUser47', 'webcam..', 'adultsUser59', 'fart', 'star', 'everbody', 'haha..', 'eeek', 'hand\"', ']:)', 'wet?', '20sUser30', 'What', 'heheh', 'buy', 'OMG', ':(', 'part', '40sUser48', 'WOULD', 'reason', '20sUser92???', 'RIGHT', '30sUser11?', 'unwind', 'o<|=D', 'WHEN', 'inside', '20sUser168', ':p', 'dumbass', 'adultsUser129...where', 'kick', 'being', 'muahsssssssssssssssssss', 'ny', '....', 'tthe', 'kennedy', 'comes', 'fock', '30sUser1,', 'there', 'adultsUser130?', 'Tim', 'GIRLS', '20sUser69!!!!!!!!!!', 'HAHAHA', 'everybody', 'mono?', 'adultsUser105!', 'cline', 'female', 'cookies?', 'for', 'about..?any', 'thinking', 'hooo', 'pm', '40sUser37?', 'hahahahahahahahahahahahahahahaha', 'UFC', '40sUser61..how', 'Road?', 'elbows', 'out?', '2DAY', 'prison?', 'adultsUser1..', 'dear?', '30sUser17...', '20sUser105', 'awesomes!', 'moans', 'ANY', '40sUser42,', '20sUser18', 'happening', 'woods,', 'hehehehe', '20sUser121??', 'adultsUser35', 'adultsUser37?', 'hey', 'from???', 'wants', 'so', 'Why', 'football', 'place', 'when?', \"why'd\", 'his', 'known', 'shower', 'Lord', 'rofl', 'moving', 'teensUser122', '20sUser70!!!!!!!!!', 'Oh,', 'out', '40sUser52?', '????', 'should', 'lmfao', 'Russion', 'Her?', 'Judy', 'moped', 'wife?', 'texan??', 'fascination', '30sUser23', 'Wtf,', 'virgin?', 'yucky', 'adultsUser115', 'John', 'i', 'oh,', 'reading', 'find', '20sUser101', 'show', 'HALO', 'Rush', 'man', '20sUser31', 'Jason', '20sUser104!!!', 'thanks', 'Yikes', 'today', 'brooklyn', 'Yarrrr.', 'lol', 'crap?', 'lol@sesky', 'pic?', 'tastes', '@', 'raarrrrrr', 'class', \"what's\", 'red?', 'o_0', 'gay?', 'standin', '20sUser34', 'over?', '20sUser21', '<33.', 'you', 'outside', 'dueling', 'hard', 'Daniel<3', 'teensUser172', 'redneck?', 'LOl', 'huuuuuuuuuuuuuuuuuuuuuuuuuuuuuuuuuuugZ', 'im', '40sUser39???????', 'honey!!!', 'figure', 'uffff', 'adultsUser105', 'cost?', 'at', 'do?', 'heyyy', 'cold', 'mary?', 'sheesh', 'whooo', 'Nadda,', 'Hungry?', '20sUser34!', 'lmaoo', 'mean', '20sUser129', 'yerself??', 'King', 'blech', '40sUser20', 'Oh', 'wha', 'TO', 'signed', 'hugsss:)', \"lol....who's\", 'Rofl', 'make', '20sUser114?', 'want', 'red\"', 'yes', '*', '30sUser31...', 'u?????', 'American', '???????', 'hot', 'wOOt!!!', 'teensUser168?', 'giggles', 'adultsUser58?', 'financial', 'try', 'really', 'lmaoooo', 'on!!!', 'fetterline', 'her', 'miss', '!!!!!', 'doin', 'today?', 'deal????', 'since', 'lolololll', 'dontcha', 'askin', 'phone', 'learn', 'fool', 'yours', 'hugzzzzzzz', 'wooo', '.....what', 'sheesin?', 'wheeeeeeeeeeeeeeeeeeeeeeeeeeeeeeeeee', '20sUser115?', 'pay', 'whjat', 'adultsUser5?', 'whats', 'both', 'ALL', '20sUser92?', 'picture?', 'me!!!', 'frown?', 'gonna', 'HOTT', '30sUser9?', 'nationality', 'crying', 'profiles?', '20sUser115...', 'LOL!!', 'didnt', 'stop', 'mainland?', 'johny', 'go', 'about', 'but', 'Hahhaa.', 'perverted', 'teensUser34<33.', \"there's\", 'wahoooooooski', 'take', '20sUser54', '!!!', 'seen', 'ya', 'adultsUser95', 'yeee', 'wow...', 'extras', 'cares', 'seconds', 'sis', 'HEY!', 'hahaah40sUser48', 'pa', 'darlin?', 'a', ',', 'knees!???', 'TALKING', 'do?!', 'something', 'alot', 'us?', '30sUser18?', 'nicname', 'sup', 'ha', 'dancing', 'adultsUser15.', 'abou', '30sUser37?', 'dang', 'stuff', 'woof', 'mauh!!!!!!!!!!!!!!!!', 'youre', 'ldskdlsf', 'whou', 'LONLEY', 'headed', 'kind', 'Where', 'lol@lucifuge', 'so,', 'gooo?', 'happening?', 'naked?', '40sUser25!!', 'adultsUser44?', 'ago', 'teensUser142', 'tisk??????', 'patsy', 'woohoo!', 'first', 'hiya', 'why?', 'huh?', 'whoaaaaaaaaaaaa', \"What's\", 'month', 'teensUser22...', 'haha', 'perv?', 'is', 'damn!', 'miss?', 'You', '40sUser48...', 'Haha', 'adultsUser28', 'ooopppps', 'hhehe', 'adultsUser103', 'nelsons', 'lipstick', 'whew', '30sUser9', 'ahhhhhhhhhhhhhh', 'AHHAH', 'aaaaaaaaaaaaaaaaa!', '=D', 'time', 'I', 'tisk', 'wow', 'teensUser98?', 'game', '40sUser50', '20sUser40?', 'everybody?', 'hell', 'aww', 'sucks', '..', 'standing', '40sUser49?', 'slam', \"couldn't\", 'her.', 'adultsUser47', 'later', 'here', 'hate', 'now', 'were', 'sldfjlsdf', 'doing?', 'island', 'Randy', 'Whaaa?', 'adultsUser23', 'pfft', 'what`', 'awwwwwwwwww', 'speech', 'always', 'chat', 'good,', 'talkcitys', 'A', 'go?', 'the', 'lol.......why', 'your', 'every1', 'urself', 'sweetie', 'adultsUser16', 'LOL', '40sUser16,', 'uh', 'can', '20sUser50', '40sUser62...', 'or', 'sings', '40sUser36', 'ur', 'corner', 'guns,', 'woods', 'lmao@40sUser53', 'Me?', 'hell?', 'lmao...', 'these', 'HOW', 'me??????', 'friends,', 'DOING', 'ewwwww', 'abide', '30sUser19', 'r', 'ok', 'sure', 'supposed', '40sUser48!', 'oh', 'doing', '0o', 'Ty', 'need', 'missing', 'all', 'living?', 'root', 'ran', 'omg', 'Burger', '40sUser14!', 'qwertyuiop', 'hank', '=O', 'adultsUser72', '40sUser34', '30sUser25', 'all?', 'hahahaa', 'Same', 'eeww', 'why', 'into', 'me?', 'big', 'town', 'haaa.', '=p', 'kill', 'says', 'hehe', '40sUser18', 'does', 'feel', 'shot', 'against?', 'St', 'Who', '=(', 'silver?', 'haze', 'paper?', 'talking', '40sUser28?', 'which', '<3333333333333333', 'hour?', ';p', 'hahaha', 'hartford', 'in!??', 'rules?', 'hon', '30sUser17?', 'major', 'HERE!!', 'awww', 'THERES', 'nj', 'banjoes', 'fly?', 'clue', '40sUser41', 'fine', 'pro', 'haw', 'heya', 'cyber', 'alzheimers?', 'Matt', '40sUser29?', 'willie', 'yer', '40sUser42', '30?', 'agree', 'chat??', 'lolol', 'off?', 'adultsUser70', 'got', 'wanna', 'calling', 'maybe', '...for', 'latest?', 'Hi', 'MD', 'red', 'mwahhs', 'from?', 'better', 'pppppppppppew!!!!!', '^_^', '40sUser7..how', 'purple', 'chica?', 'about?', 'where?', '27', 'ugh.', \"30sUser9...where'd\", 'lot,', 'kidding', 'lol...', '19/f/ca...asl??', 'snow', 'black', 'adultsUser56..been', 'ouch..40sUser20', 'wheels', 'right', 'cingular?', 'yawn..', 'close', 'from...I', 'construction', 'are', 'date', 'other', 'loud', '=/', '40sUser7?????????', 'pink\"', 'wrote', 'flavour', 'pmsl?', '30sUser3', 'long?', 'who', 'weigh', 'nickleback?', 'adultsUser22', 'jimmy', 'yawns......', 'yourself', '40sUser27,', 'hah', \"aren't\", 'bloe', '20sUser53', 'and', 'serg!!!', 'here,', 'seriously', 'ohio?', '??', 'hi', 'Aww', 'what?', 'talkin', 'read', '40sUser7,', 'adultsUser46', ':)', 'list', 'o_O', 'no', 'a/s/l?', '18', 'might', 'think', 'conversion', 'hes', 'eeeeeeeeewwwwwwww', 'beattles', '20sUser91..', 'thing', 'let', 'holocaust', 'Space', 'soda', 'that?', 'hahah@baby', 'sucker', 'wat', 'rest', ':P', 'adultsUser69', 'room', 'they?', 'wb', ':O', 'howz', 'name?', 'am', 'R', 'leave?', '40sUser30', '20sUser146', '\"do', '....its', 'Yes,', 'o.o', \"how's\", 'eyes?', 'girls', '....bummer', 'U?', 'you.', 'guys', 'psh', 'fkajslf', 'hey,', 'ty', 'teensUser119?', 'damn...', '20sUser69', 'umm', 'cool', 'never', 'sometimes', 'hahah', 'LMAO', 'adultsUser23!!!', 'sad', 'u', 'babe', 'manson', '40sUser65', 'holy', 'dork?', 'put', '40sUser28', 'brrrrrrr', '40sUser46', 'smells', 'said', 'forwads?', 'tell', '40sUser48....huh', 'like,', '40sUser16', 'from', 'people', 'taste', 'shit', 'ohio', '7am?', 'whoo', 'l', 'Ha.', 'last', 'lunch,', 'lol,', 'hendrix', 'M', '40sUser39', 'suck', '.', 'ABOUT', 'look', '40sUser57', 'On', \"can't\", ':-)', 'boyfriend?', 'teensUser86?', 'up2', 'adultsUser105?', 'so..', '40sUser18!!!', 'good', 'it?', 'balck', 'do', 'doin,', 'everyone', 'toes', 'adultsUser108', 'boo.', 'kts', 'CA', 'pervin?', 'AHAHH', 'Booyah.', '20sUser69!!!!!!!!!!!!!', \"who's\", 'why?!?!?', ';]', '1', '40sUser30......Hi.......how', 'sex', 'become', 'talk', 'hohohohhohhoo', 'Pierre?', 'up?', '20sUser115!', 'alcopones', '.LoL', 'cripos', '30sUser7', '40sUser19!', 'Ct', 'children?', '~winkZ~', 'gosh', 'H', 'il', 'freaking', 'adultsUser73', 'heee', 'horny', 'in??', 'youer', 'whos', 'shaken', 'LIX', 'whitte', 'adultsUser37', 'arizona?', 'dum', '20sUser110?', 'okies', 'what,', '40sUser34?', 'ONE', 'night', 'yawnssss......', 'wut??', 'k', 'goes', 'tonight', 'them', 'honey??', 'lick', 'please?', 'unusual', 'making', 'ARE', '40sUser4', 'teensUser22?', 'lmao', 'YaY!', 'took', 'scusezzy', ':-@', 'broke', '30sUser25...', 'me??', 'adultsUser3', 'adultsUser520,', 'adultsUser15?', 'over?????', 'up!', 'night?', 'stirred', \"i'm\", 'bye', 'research.', 'heck', 'on', 'xD', 'kinda', 'huh..lol', 'in', '30sUser17', 'And', 'asking', 'Heyyy.', 'chineese', 'b', 'obsession', 'give', 'wv', 'fishercat?', 'adultsUser0', '40sUser56', 'ROFL', 'Then', 'grrrrrrrrrrrrrrrrr', 'teensUser3?', 'tu?', 'be', 'BLONDES', '20sUser115', 'humple', ';-(', '40sUser34...how', 'like', 'call', 'huh', ';)', 'by', 'happens', '93lbs', 'wOOt', 'sign?', 'an', '2.3', 'tv', 'hehehe', 'adultsUser70....', 'as', 'kev', \"ya'\", 'mad', 'hows', 'been', 'idnt', '80', '20sUser170', 'it', '40sUser7', 'booted', 'consultant', 'argh', 'man.', 'bad,', '40sUser11', 'with', '\"slow', 'Lmfao', 'md?', 'attracted', 'silver', 'hear', 'eat?', '40sUser70', 'adultsUser54', 'mwahhss', 'Ms', 'heyy', \"didn't\", 'things', 'adultsUser25', 'ladies', 'y', 'sorry', 'kc', 'Wtf.', 'grrrrrrrrr', 'adultsUser12', 'round', 'chatted', '20sUser7', 'asl?', '30sUser28', 'TALK', 'lord..', \"we're\", 'adultsUser15:', 'used', 'great', 'teensUser137', 'of', 'names?', 'Aw,', '30sUser35?', 'YOU', 'ughhh', 'weeeeeeeeeeeeeeee!', 'sry', ':/', 'ppl?', 'when', 'hahahahahaha', 'same', 'way?', 'hello40sUser20', 'you????', 'everyone...lol', 'siver', 'girl', 'roses', 'hook', 'hugsss', 'teensUser197<3.', '20sUser70', 'bloody', 'where', '20sUser91', '&', 'bears...', 'adultsUser35?', 'Indiantown', 'famous', '40sUser66', 'gone?', 'pervin', 'sweet', 'burns?', 'adultsUser19', 'life', 'yum', 'music', 'someone', 'that', 'sing', 'wanting', 'preference?', 'charlie', 'just', 'Hughes', \"30sUser9...what's\", 'hawt', 'back', 'god', 'soakin', 'name', '40sUser52', 'affari', 'then@adultsUser12', 'om', \"what'd\", '30sUser2', '40sUser12?', 'not', 'happened', 'here?', 'ahhh', 'kennedy??!!', 'menu', 'come', 'lame', '-_-', 'jerkettes??', 'ME', 'hahahahahahaha', '40sUser30?', 'w/', 'geeshh', 'adultsUser100', 'eww', 'lmao!!!', 'gaspppp', '20sUser110', '2', 'adultsUser23???', 'damn', '30sUser18', 'rap', 'alone', 'whaaaaats', '20sUser52?', 'not??', 'elevation', 'sick', \"where's\", 'ive', '20sUser6', 'paste!?', 'willams', 'eeeek', 'raaaaaaaaaaaaaaaaaaaaaaaaaaaaa', 'everything', 'amazing', 'muhaha', 'ewwww', 'how', '30sUser11', '40sUser61', '40sUser13', '40sUser27', '20sUser91!!!', 'adultsUser1', 'wouldnt', '40sUser22', '40sUser58', 'yep!', 'chuckle', 'there?', 'cashes', 'have', 'scared', 'nawp', 'woohoo', 'Bwhaha', 'PM', 'spanish', 'aw', 'manson??', \"e'wjfghky\", 'ms.', 'pffft', 'this', '~blusherZ~', 'boss', 'whys', 'Whats', '40sUser30?????', 'wtf', 'yes!', 'WHY', '20sUser69?', 'else', 'tired', 'would', 'lincolns', '40sUser33', 'hugsssssssss', 'GIRL', '20sUser156?', '*sniffs*', 'sdlfkjsj', 'adultsUser28?', 'aint', 'ASS', 'Awww', '40sUser35', 'searching', 'awwwwww', 'wasnt', 'love?', 'paypal', 'hahaaa', 'Hugs', '40sUser7.........how', 'teehee', '???', 'marilyn', 'eh', 'employed?', 'chicken', ';-)', 'crazy', 'color', 'innocent', 'hugsssss', 'reads?', 'you?', 'waaa!', 'Dang,', 'too,', 'guess', '40sUser35,', 'warm?', 'he', 'arent', '20sUser44', '40sUser40', 'LoL', 'adultsUser44', '40sUser39??', 'hottie', '40sUser31', 'grrr', 'adultsUser65', 'hugs', 'darling?', '40sUser11?', 'lawl', 'wont', '40sUser8', '*hugs', 'ha!', 'sang', 'in?', 'thanksadultsUser105:)', '+*+*+*+*', 'adultsUser85', 'imaginary?', 'wats', '[[[[[[[[[[[[[[[[[[', 'charge', 'asl', 'lookin', 'monday', 'adultsUser36', '40sUser19', 'christ', 'play', 'green', 'adultsUser45?', '40sUser18?', 'haha.', 'TWO', 'yay', 'charger', ':-o', '20sUser128', 'teensUser104!!!!!!!<333333333', 'slkfjsldkfjs', 'ahahah', 'my', '30sUser31', 'adultsUser24', 'sassy?', 'one?', 'type', 'change', 'ask', '20sUser68', 'lol....', 'like...lol', 'lool', 'heh', 'dear.', 'hahhahahaha', 'mcgraw', '40sUser24', 'nick', 'happend', 'HOW?!', 'around', 'weeeeeeeee', 'Paul', 'ugh', 'bears...what', '40sUser16?', \"yawn'\", 'did', '40sUser13??', 'adultsUser99', '20sUser156', 'get', 'woooohoooo', 'adultsUser32.', 'xcitable?', 'HUH?', 'lady', '40sUser48!!!!', 'having', 'guide', '40sUser49', '20sUser7!!', 'adultsUser53', 'ck', 'cant', 'When', 'teensUser104', 'yoko', 'goin', 'yay!', '20sUser90', 'bother', 'sigh', 'not!!', 'nice', 'woot', 'geez', 'long', 'crap', 'well', 'reminder', 'hello', 'Or'}\n"
          ]
        }
      ],
      "source": [
        "# Your solution here\n",
        "train_texts = [word for p in posts_train for word in p]\n",
        "posts_train_fd = nltk.FreqDist(train_texts)\n",
        "posts_train_words = {word for word, _ in posts_train_fd.most_common(2000)}\n",
        "\n",
        "print(posts_train_words)"
      ]
    },
    {
      "cell_type": "markdown",
      "metadata": {
        "id": "tyC-0es9KwTq"
      },
      "source": [
        "\n",
        "Define two feature selection functions that take a string as input and output a dictionary of features:\n",
        "* `get_word_features(string)`\n",
        "* `get_custom_features(string)`\n",
        "\n",
        "Begin by defining `get_word_features`. This function should use the words as features, just like in the movie review example above.\n",
        "\n",
        "\n"
      ]
    },
    {
      "cell_type": "code",
      "execution_count": 29,
      "metadata": {
        "id": "6b6mKRLiFqEo"
      },
      "outputs": [],
      "source": [
        "# Your solution here\n",
        "def get_word_features(post):\n",
        "    return get_features(post, posts_train_words)"
      ]
    },
    {
      "cell_type": "markdown",
      "metadata": {
        "id": "n4LmO-UaJCHj"
      },
      "source": [
        "Next, define `get_custom_features`. This function should extract the features from the text that characterize the **Emotion** and **whQuestions** classes."
      ]
    },
    {
      "cell_type": "code",
      "execution_count": 45,
      "metadata": {
        "id": "w9CBUttQKEzs"
      },
      "outputs": [],
      "source": [
        "# Your solution here\n",
        "def get_custom_features(post):\n",
        "    features = {}\n",
        "\n",
        "    post = \" \".join(post).lower()\n",
        "\n",
        "    features['has_lol'] = len(re.findall(r\"l(o+)l\", post))\n",
        "    features['has_lmao'] = len(re.findall(r\"lma(o+)\", post))\n",
        "    features['has_laugh'] = len(re.findall(r\"(h[aeio])+\", post))\n",
        "    features['has_emoji'] = len(re.findall(r\"[=:]([\\(\\)/\\\\P3])+\", post))\n",
        "    features['has_qmark'] = len(re.findall(r\"\\?+$\", post))\n",
        "    features['has_exmark'] = len(re.findall(r\"!+$\", post))\n",
        "    features['has_wh_word'] = re.search('(what|where|when|who|why|wtf)', post) is not None\n",
        "\n",
        "    return features"
      ]
    },
    {
      "cell_type": "markdown",
      "metadata": {
        "id": "KxGa5GS1J3aG"
      },
      "source": [
        "Conduct the following tasks:\n",
        "*   Train two Naive Bayes classifiers on the **Emotion + whQuestions** training set: one that uses the `get_word_features` function and another using `get_custom_features`.\n",
        "*   Evaluate each classifier on the test set. How accurate are they? Which one is better?\n",
        "*   What are the 20 most informative features for each classifier?\n"
      ]
    },
    {
      "cell_type": "code",
      "execution_count": 31,
      "metadata": {
        "colab": {
          "base_uri": "https://localhost:8080/"
        },
        "id": "pLArluAwX2By",
        "outputId": "d5c30413-a7d3-4c30-cfa0-19e2d48a0c71"
      },
      "outputs": [
        {
          "output_type": "stream",
          "name": "stdout",
          "text": [
            "Most Informative Features\n",
            "            adultsUser35 = True           whQues : Emotio =      2.9 : 1.0\n",
            "                     you = True           whQues : Emotio =      2.9 : 1.0\n",
            "            adultsUser53 = True           Emotio : whQues =      2.4 : 1.0\n",
            "                 giggles = True           Emotio : whQues =      2.4 : 1.0\n",
            "                      it = True           Emotio : whQues =      2.4 : 1.0\n",
            "              20sUser121 = True           whQues : Emotio =      2.3 : 1.0\n",
            "                     :-o = True           whQues : Emotio =      2.3 : 1.0\n",
            "                      =( = True           whQues : Emotio =      2.3 : 1.0\n",
            "            adultsUser16 = True           whQues : Emotio =      2.3 : 1.0\n",
            "                    hugs = True           whQues : Emotio =      2.3 : 1.0\n",
            "                     o.O = True           whQues : Emotio =      2.3 : 1.0\n",
            "                20sUser7 = True           Emotio : whQues =      2.2 : 1.0\n",
            "               40sUser31 = True           Emotio : whQues =      1.8 : 1.0\n",
            "                     her = True           Emotio : whQues =      1.8 : 1.0\n",
            "                  lmaooo = True           Emotio : whQues =      1.8 : 1.0\n",
            "                    .LoL = True           Emotio : whQues =      1.7 : 1.0\n",
            "               20sUser30 = True           Emotio : whQues =      1.7 : 1.0\n",
            "               30sUser11 = True           Emotio : whQues =      1.7 : 1.0\n",
            "            30sUser31... = True           Emotio : whQues =      1.7 : 1.0\n",
            "                      :( = True           Emotio : whQues =      1.7 : 1.0\n",
            "Accuracy: 36.07%\n"
          ]
        }
      ],
      "source": [
        "# Your solution here\n",
        "posts_em_wordf = [(get_word_features(post), 'Emotion') for post in posts_em]\n",
        "posts_whq_wordf = [(get_word_features(post), 'whQuestion') for post in posts_em]\n",
        "\n",
        "posts_train, posts_test = split_train_test(posts_em_wordf + posts_whq_wordf, train_count=1300)\n",
        "\n",
        "classif_posts_words = nltk.NaiveBayesClassifier.train(posts_train)\n",
        "classif_posts_words.show_most_informative_features(20)\n",
        "print(f\"Accuracy: {nltk.classify.accuracy(classif_posts_words, posts_test)*100.:.2f}%\")"
      ]
    },
    {
      "cell_type": "code",
      "execution_count": 46,
      "metadata": {
        "id": "15ERz1hnK8at",
        "colab": {
          "base_uri": "https://localhost:8080/"
        },
        "outputId": "19c877ef-ded3-4014-a7f5-2c9b5296daba"
      },
      "outputs": [
        {
          "output_type": "stream",
          "name": "stdout",
          "text": [
            "Most Informative Features\n",
            "               has_laugh = 3              whQues : Emotio =      1.6 : 1.0\n",
            "               has_emoji = 1              Emotio : whQues =      1.3 : 1.0\n",
            "              has_exmark = 1              whQues : Emotio =      1.1 : 1.0\n",
            "               has_laugh = 2              whQues : Emotio =      1.1 : 1.0\n",
            "                has_lmao = 1              Emotio : whQues =      1.1 : 1.0\n",
            "             has_wh_word = True           Emotio : whQues =      1.1 : 1.0\n",
            "                 has_lol = 2              Emotio : whQues =      1.1 : 1.0\n",
            "               has_laugh = 4              Emotio : whQues =      1.1 : 1.0\n",
            "               has_laugh = 1              Emotio : whQues =      1.1 : 1.0\n",
            "                 has_lol = 1              whQues : Emotio =      1.0 : 1.0\n",
            "                 has_lol = 0              Emotio : whQues =      1.0 : 1.0\n",
            "               has_emoji = 0              whQues : Emotio =      1.0 : 1.0\n",
            "                has_lmao = 0              whQues : Emotio =      1.0 : 1.0\n",
            "              has_exmark = 0              Emotio : whQues =      1.0 : 1.0\n",
            "               has_laugh = 0              whQues : Emotio =      1.0 : 1.0\n",
            "             has_wh_word = False          whQues : Emotio =      1.0 : 1.0\n",
            "               has_qmark = 0              Emotio : whQues =      1.0 : 1.0\n",
            "Accuracy: 46.82%\n"
          ]
        }
      ],
      "source": [
        "posts_em_customf = [(get_custom_features(post), 'Emotion') for post in posts_em]\n",
        "posts_whq_customf = [(get_custom_features(post), 'whQuestion') for post in posts_em]\n",
        "\n",
        "posts_train, posts_test = split_train_test(posts_em_customf + posts_whq_customf, train_count=1300)\n",
        "\n",
        "classif_posts_words = nltk.NaiveBayesClassifier.train(posts_train)\n",
        "classif_posts_words.show_most_informative_features(20)\n",
        "print(f\"Accuracy: {nltk.classify.accuracy(classif_posts_words, posts_test)*100.:.2f}%\")"
      ]
    },
    {
      "cell_type": "code",
      "execution_count": null,
      "metadata": {
        "id": "zesYTKIHX2By"
      },
      "outputs": [],
      "source": []
    }
  ],
  "metadata": {
    "colab": {
      "provenance": []
    },
    "kernelspec": {
      "display_name": "Python 3",
      "name": "python3"
    },
    "language_info": {
      "codemirror_mode": {
        "name": "ipython",
        "version": 3
      },
      "file_extension": ".py",
      "mimetype": "text/x-python",
      "name": "python",
      "nbconvert_exporter": "python",
      "pygments_lexer": "ipython3",
      "version": "3.11.4"
    }
  },
  "nbformat": 4,
  "nbformat_minor": 0
}